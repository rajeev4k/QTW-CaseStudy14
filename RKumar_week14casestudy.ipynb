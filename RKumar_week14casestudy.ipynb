{
 "cells": [
  {
   "cell_type": "markdown",
   "metadata": {},
   "source": [
    "# QTW Case Study - 14 : Analyzing Airline Flight Delays\n",
    "\n",
    "Author : Rajeev Kumar  \n",
    "Section: MSDS 7333 Quantifying the World - 401"
   ]
  },
  {
   "cell_type": "markdown",
   "metadata": {
    "toc": "true"
   },
   "source": [
    " # Table of Contents\n",
    "<div class=\"toc\" style=\"margin-top: 1em;\"><ul class=\"toc-item\" id=\"toc-level0\"><li><span><a href=\"http://localhost:8888/notebooks/Downloads/Split_Apply_CombineinRandPython/RKumarCaseStudyWeek14.ipynb#QTW-Case-Study---14-:-Analyzing-Airline-Flight-Delays\" data-toc-modified-id=\"QTW-Case-Study---14-:-Analyzing-Airline-Flight-Delays-1\">QTW Case Study - 14 : Analyzing Airline Flight Delays</a></span><ul class=\"toc-item\"><li><span><a href=\"http://localhost:8888/notebooks/Downloads/Split_Apply_CombineinRandPython/RKumarCaseStudyWeek14.ipynb#1.-Abstract\" data-toc-modified-id=\"1.-Abstract-1.1\">1. Abstract</a></span></li><li><span><a href=\"http://localhost:8888/notebooks/Downloads/Split_Apply_CombineinRandPython/RKumarCaseStudyWeek14.ipynb#2.-Introduction\" data-toc-modified-id=\"2.-Introduction-1.2\">2. Introduction</a></span></li><li><span><a href=\"http://localhost:8888/notebooks/Downloads/Split_Apply_CombineinRandPython/RKumarCaseStudyWeek14.ipynb#3.-Method\" data-toc-modified-id=\"3.-Method-1.3\">3. Method</a></span></li><li><span><a href=\"http://localhost:8888/notebooks/Downloads/Split_Apply_CombineinRandPython/RKumarCaseStudyWeek14.ipynb#4.-DataSet-Description\" data-toc-modified-id=\"4.-DataSet-Description-1.4\">4. DataSet Description</a></span></li><li><span><a href=\"http://localhost:8888/notebooks/Downloads/Split_Apply_CombineinRandPython/RKumarCaseStudyWeek14.ipynb#5.-Data-Gathering,-Cleansing-and-Exploratory-Data-Analysis\" data-toc-modified-id=\"5.-Data-Gathering,-Cleansing-and-Exploratory-Data-Analysis-1.5\">5. Data Gathering, Cleansing and Exploratory Data Analysis</a></span><ul class=\"toc-item\"><li><span><a href=\"http://localhost:8888/notebooks/Downloads/Split_Apply_CombineinRandPython/RKumarCaseStudyWeek14.ipynb#5.1-Downloading-the-dataset-(Using-Python)\" data-toc-modified-id=\"5.1-Downloading-the-dataset-(Using-Python)-1.5.1\">5.1 Downloading the dataset (Using Python)</a></span></li><li><span><a href=\"http://localhost:8888/notebooks/Downloads/Split_Apply_CombineinRandPython/RKumarCaseStudyWeek14.ipynb#5.2-Loading-data-into-memory\" data-toc-modified-id=\"5.2-Loading-data-into-memory-1.5.2\">5.2 Loading data into memory</a></span></li><li><span><a href=\"http://localhost:8888/notebooks/Downloads/Split_Apply_CombineinRandPython/RKumarCaseStudyWeek14.ipynb#5.3-Data-Exploration-using-Python-Graphlab\" data-toc-modified-id=\"5.3-Data-Exploration-using-Python-Graphlab-1.5.3\">5.3 Data Exploration using Python Graphlab</a></span><ul class=\"toc-item\"><li><span><a href=\"http://localhost:8888/notebooks/Downloads/Split_Apply_CombineinRandPython/RKumarCaseStudyWeek14.ipynb#Analyzing-Popular-Airports-to-fly-from-in-Python\" data-toc-modified-id=\"Analyzing-Popular-Airports-to-fly-from-in-Python-1.5.3.1\">Analyzing Popular Airports to fly from in Python</a></span></li><li><span><a href=\"http://localhost:8888/notebooks/Downloads/Split_Apply_CombineinRandPython/RKumarCaseStudyWeek14.ipynb#Q1:-Which-airports-are-most-likely-to-be-delayed-flying-out-of-or-into?\" data-toc-modified-id=\"Q1:-Which-airports-are-most-likely-to-be-delayed-flying-out-of-or-into?-1.5.3.2\">Q1: Which airports are most likely to be delayed flying out of or into?</a></span></li><li><span><a href=\"http://localhost:8888/notebooks/Downloads/Split_Apply_CombineinRandPython/RKumarCaseStudyWeek14.ipynb#Q2-:-Which-flights-with-same-origin-and-destination-are-most-likely-to-be-delayed?\" data-toc-modified-id=\"Q2-:-Which-flights-with-same-origin-and-destination-are-most-likely-to-be-delayed?-1.5.3.3\">Q2 : Which flights with same origin and destination are most likely to be delayed?</a></span></li></ul></li><li><span><a href=\"http://localhost:8888/notebooks/Downloads/Split_Apply_CombineinRandPython/RKumarCaseStudyWeek14.ipynb#5.4-Analyzing-Depature-Delays-at-Specific-Times-of-the-Day-in-Python\" data-toc-modified-id=\"5.4-Analyzing-Depature-Delays-at-Specific-Times-of-the-Day-in-Python-1.5.4\">5.4 Analyzing Depature Delays at Specific Times of the Day in Python</a></span></li><li><span><a href=\"http://localhost:8888/notebooks/Downloads/Split_Apply_CombineinRandPython/RKumarCaseStudyWeek14.ipynb#6-Linear-Regression\" data-toc-modified-id=\"6-Linear-Regression-1.5.5\">6 Linear Regression</a></span><ul class=\"toc-item\"><li><span><a href=\"http://localhost:8888/notebooks/Downloads/Split_Apply_CombineinRandPython/RKumarCaseStudyWeek14.ipynb#Data-Preperation-for-Linear-Regression\" data-toc-modified-id=\"Data-Preperation-for-Linear-Regression-1.5.5.1\">Data Preperation for Linear Regression</a></span></li><li><span><a href=\"http://localhost:8888/notebooks/Downloads/Split_Apply_CombineinRandPython/RKumarCaseStudyWeek14.ipynb#Q3:-Add-new-feature-called-departure-time-slots.\" data-toc-modified-id=\"Q3:-Add-new-feature-called-departure-time-slots.-1.5.5.2\">Q3: Add new feature called departure time slots.</a></span></li><li><span><a href=\"http://localhost:8888/notebooks/Downloads/Split_Apply_CombineinRandPython/RKumarCaseStudyWeek14.ipynb#Q4:-Build-Linear-Regression-Model\" data-toc-modified-id=\"Q4:-Build-Linear-Regression-Model-1.5.5.3\">Q4: Build Linear Regression Model</a></span></li><li><span><a href=\"http://localhost:8888/notebooks/Downloads/Split_Apply_CombineinRandPython/RKumarCaseStudyWeek14.ipynb#Q5:-What-are-the-most-important-features-for-this-regression?\" data-toc-modified-id=\"Q5:-What-are-the-most-important-features-for-this-regression?-1.5.5.4\">Q5: What are the most important features for this regression?</a></span></li><li><span><a href=\"http://localhost:8888/notebooks/Downloads/Split_Apply_CombineinRandPython/RKumarCaseStudyWeek14.ipynb#Q6:-Cross-Validation-of-Linear-Regression-Model\" data-toc-modified-id=\"Q6:-Cross-Validation-of-Linear-Regression-Model-1.5.5.5\">Q6: Cross-Validation of Linear Regression Model</a></span></li></ul></li><li><span><a href=\"http://localhost:8888/notebooks/Downloads/Split_Apply_CombineinRandPython/RKumarCaseStudyWeek14.ipynb#7-Conclusion-And-Future-Work\" data-toc-modified-id=\"7-Conclusion-And-Future-Work-1.5.6\">7 Conclusion And Future Work</a></span></li><li><span><a href=\"http://localhost:8888/notebooks/Downloads/Split_Apply_CombineinRandPython/RKumarCaseStudyWeek14.ipynb#8.-References\" data-toc-modified-id=\"8.-References-1.5.7\">8. References</a></span></li></ul></li></ul></li></ul></div>"
   ]
  },
  {
   "cell_type": "markdown",
   "metadata": {},
   "source": [
    "## 1. Abstract  \n",
    "\n",
    "This case study explores the Airlines delay and possible causes of it. The data for this case study is gathered from the US government’s Bureau of Transportation Research and Innovative Technology Administration (RITA) Website compiled by Hadley Wickham. As the data is very large (12GB), so Graphlab python 2 packages from Turi (a.k.a Dato) is used for exploration and model building. Also, we have tried to answer questions such as \"Which airports are the most likely to be delayed flying out or flying into?\", \"Which flights with the same origin and destination are the most likely to be delayed\" etc.  \n",
    "\n",
    "Also, we will build a regression model to estimate the amount that weather, age, departure time of flight contributed to the overall of delay of airlines."
   ]
  },
  {
   "cell_type": "markdown",
   "metadata": {},
   "source": [
    "## 2. Introduction\n",
    "\n",
    "The objective of this case study is to read over 12 GB of the big data from provided by RITA website and analyze the causes of airline's delay. Graphlab package is used to read and analyze this big dataset. The airline dataset has airlines' arrival and departure data from 1987 to 2008 for those carriers with at least 1% of domestic U.S. flights in a given year. \n",
    "\n",
    "In this case study we have answered following questions :\n",
    "\n",
    "**Q1:** Which airports are most likely to be delayed flying out of or into?  \n",
    "**Q2:** Which flights with same origin and destination are most likely to be delayed?  \n",
    "**Q3:** Create at least one new feature variable for the regression.  \n",
    "**Q4:** Can we regress how delayed flight will be before it is delayed?  \n",
    "**Q5:** What are the most important features of this regression?  \n",
    "**Q6:** Remember to properly cross-validate models.  "
   ]
  },
  {
   "cell_type": "markdown",
   "metadata": {},
   "source": [
    "## 3. Method\n",
    "\n",
    "We have used Python 2 package \"Graphlab\" from Dato to read, analyze, and explore the commercial airline's data. Graphlab has SFRAME which is similar to DataFrame in Python. But, it is a scalable, out-of-core data frame, which allows us to work with datasets that are larger than the amount of RAM on our system.   \n",
    "\n",
    "Also, we will use linear_regression available in Graphlab to train and build the linear regression model. The training and test data will be split 80-20. And, the model will be trained on the training dataset and RMSE will be used to evaluate the model.\n",
    "In python, we will also be using a number of different libraries \n",
    "- `pandas`\n",
    "- `numpy`\n",
    "- `graphlab-create`"
   ]
  },
  {
   "cell_type": "markdown",
   "metadata": {},
   "source": [
    "## 4. DataSet Description\n",
    "\n",
    "Airlines data that is available on the website (http://stat-computing.org/dataexpo/2009/the-data.html). And, the data is compressed csv file format for each year between 1987 and 2008. The csv file has following columns:\n",
    "\n",
    " \n",
    "**S.No. Name\t  Description  **  \n",
    "1\tYear\t1987-2008  \n",
    "2\tMonth\t1-12  \n",
    "3\tDayofMonth\t1-31  \n",
    "4\tDayOfWeek\t1 (Monday) - 7 (Sunday)  \n",
    "5\tDepTime\tactual departure time (local, hhmm)  \n",
    "6\tCRSDepTime\tscheduled departure time (local, hhmm)  \n",
    "7\tArrTime\tactual arrival time (local, hhmm)  \n",
    "8\tCRSArrTime\tscheduled arrival time (local, hhmm)  \n",
    "9\tUniqueCarrier\tunique carrier code  \n",
    "10\tFlightNum\tflight number  \n",
    "11\tTailNum\tplane tail number  \n",
    "12\tActualElapsedTime\tin minutes  \n",
    "13\tCRSElapsedTime\tin minutes  \n",
    "14\tAirTime\tin minutes  \n",
    "15\tArrDelay\tarrival delay, in minutes  \n",
    "16\tDepDelay\tdeparture delay, in minutes  \n",
    "17\tOrigin\torigin IATA airport code  \n",
    "18\tDest\tdestination IATA airport code  \n",
    "19\tDistance\tin miles  \n",
    "20\tTaxiIn\ttaxi in time, in minutes  \n",
    "21\tTaxiOut\ttaxi out time in minutes  \n",
    "22\tCancelled\twas the flight cancelled?  \n",
    "23\tCancellationCode\treason for cancellation (A = carrier, B = weather, C = NAS, D = security)  \n",
    "24\tDiverted\t1 = yes, 0 = no  \n",
    "25\tCarrierDelay\tin minutes  \n",
    "26\tWeatherDelay\tin minutes  \n",
    "27\tNASDelay\tin minutes  \n",
    "28\tSecurityDelay\tin minutes  \n",
    "29\tLateAircraftDelay\tin minutes  \n"
   ]
  },
  {
   "cell_type": "markdown",
   "metadata": {},
   "source": [
    "## 5. Data Gathering, Cleansing and Exploratory Data Analysis"
   ]
  },
  {
   "cell_type": "markdown",
   "metadata": {},
   "source": [
    "### 5.1 Downloading the dataset (Using Python)\n",
    "\n",
    "We can manually download each of the zipped files from the website OR run the following scripts to download the files into a folder in the directory /Users/rajeevkumar/Downloads/Airline/\".\n",
    "\n",
    "In the following blocks of code, we download the compressed csv files and then decompress them into .csv files. Each csv contains data for one year of airline flights. \n"
   ]
  },
  {
   "cell_type": "code",
   "execution_count": 2,
   "metadata": {},
   "outputs": [
    {
     "name": "stdout",
     "output_type": "stream",
     "text": [
      "/Users/rajeevkumar/Downloads/Airline/\n"
     ]
    }
   ],
   "source": [
    "import os, sys\n",
    "# create a Airline directory if not done already\n",
    "path = \"/Users/rajeevkumar/Downloads/Airline/\"\n",
    "if not os.path.exists(path):\n",
    "    os.mkdir( path, 0755 )\n",
    "print path"
   ]
  },
  {
   "cell_type": "code",
   "execution_count": 3,
   "metadata": {},
   "outputs": [
    {
     "data": {
      "text/plain": [
       "'/Users/rajeevkumar/Downloads/Airline'"
      ]
     },
     "execution_count": 3,
     "metadata": {},
     "output_type": "execute_result"
    }
   ],
   "source": [
    "# Change Working Directory to path where files will be downloaded.\n",
    "os.chdir(path)\n",
    "\n",
    "#Get Current Working Directory.\n",
    "os.getcwd()"
   ]
  },
  {
   "cell_type": "code",
   "execution_count": 7,
   "metadata": {},
   "outputs": [
    {
     "name": "stdout",
     "output_type": "stream",
     "text": [
      "Downloading http://stat-computing.org/dataexpo/2009/1987.csv.bz2 to /Users/rajeevkumar/Downloads/Airline/1987.csv.bz2\n",
      "Downloading http://stat-computing.org/dataexpo/2009/1988.csv.bz2 to /Users/rajeevkumar/Downloads/Airline/1988.csv.bz2\n",
      "Downloading http://stat-computing.org/dataexpo/2009/1989.csv.bz2 to /Users/rajeevkumar/Downloads/Airline/1989.csv.bz2\n",
      "Downloading http://stat-computing.org/dataexpo/2009/1990.csv.bz2 to /Users/rajeevkumar/Downloads/Airline/1990.csv.bz2\n",
      "Downloading http://stat-computing.org/dataexpo/2009/1991.csv.bz2 to /Users/rajeevkumar/Downloads/Airline/1991.csv.bz2\n",
      "Downloading http://stat-computing.org/dataexpo/2009/1992.csv.bz2 to /Users/rajeevkumar/Downloads/Airline/1992.csv.bz2\n",
      "Downloading http://stat-computing.org/dataexpo/2009/1993.csv.bz2 to /Users/rajeevkumar/Downloads/Airline/1993.csv.bz2\n",
      "Downloading http://stat-computing.org/dataexpo/2009/1994.csv.bz2 to /Users/rajeevkumar/Downloads/Airline/1994.csv.bz2\n",
      "Downloading http://stat-computing.org/dataexpo/2009/1995.csv.bz2 to /Users/rajeevkumar/Downloads/Airline/1995.csv.bz2\n",
      "Downloading http://stat-computing.org/dataexpo/2009/1996.csv.bz2 to /Users/rajeevkumar/Downloads/Airline/1996.csv.bz2\n",
      "Downloading http://stat-computing.org/dataexpo/2009/1997.csv.bz2 to /Users/rajeevkumar/Downloads/Airline/1997.csv.bz2\n",
      "Downloading http://stat-computing.org/dataexpo/2009/1998.csv.bz2 to /Users/rajeevkumar/Downloads/Airline/1998.csv.bz2\n",
      "Downloading http://stat-computing.org/dataexpo/2009/1999.csv.bz2 to /Users/rajeevkumar/Downloads/Airline/1999.csv.bz2\n",
      "Downloading http://stat-computing.org/dataexpo/2009/2000.csv.bz2 to /Users/rajeevkumar/Downloads/Airline/2000.csv.bz2\n",
      "Downloading http://stat-computing.org/dataexpo/2009/2001.csv.bz2 to /Users/rajeevkumar/Downloads/Airline/2001.csv.bz2\n",
      "Downloading http://stat-computing.org/dataexpo/2009/2002.csv.bz2 to /Users/rajeevkumar/Downloads/Airline/2002.csv.bz2\n",
      "Downloading http://stat-computing.org/dataexpo/2009/2003.csv.bz2 to /Users/rajeevkumar/Downloads/Airline/2003.csv.bz2\n",
      "Downloading http://stat-computing.org/dataexpo/2009/2004.csv.bz2 to /Users/rajeevkumar/Downloads/Airline/2004.csv.bz2\n",
      "Downloading http://stat-computing.org/dataexpo/2009/2005.csv.bz2 to /Users/rajeevkumar/Downloads/Airline/2005.csv.bz2\n",
      "Downloading http://stat-computing.org/dataexpo/2009/2006.csv.bz2 to /Users/rajeevkumar/Downloads/Airline/2006.csv.bz2\n",
      "Downloading http://stat-computing.org/dataexpo/2009/2007.csv.bz2 to /Users/rajeevkumar/Downloads/Airline/2007.csv.bz2\n",
      "Downloading http://stat-computing.org/dataexpo/2009/2008.csv.bz2 to /Users/rajeevkumar/Downloads/Airline/2008.csv.bz2\n",
      "['/Users/rajeevkumar/Downloads/Airline/1987.csv.bz2', '/Users/rajeevkumar/Downloads/Airline/1988.csv.bz2', '/Users/rajeevkumar/Downloads/Airline/1989.csv.bz2', '/Users/rajeevkumar/Downloads/Airline/1990.csv.bz2', '/Users/rajeevkumar/Downloads/Airline/1991.csv.bz2', '/Users/rajeevkumar/Downloads/Airline/1992.csv.bz2', '/Users/rajeevkumar/Downloads/Airline/1993.csv.bz2', '/Users/rajeevkumar/Downloads/Airline/1994.csv.bz2', '/Users/rajeevkumar/Downloads/Airline/1995.csv.bz2', '/Users/rajeevkumar/Downloads/Airline/1996.csv.bz2', '/Users/rajeevkumar/Downloads/Airline/1997.csv.bz2', '/Users/rajeevkumar/Downloads/Airline/1998.csv.bz2', '/Users/rajeevkumar/Downloads/Airline/1999.csv.bz2', '/Users/rajeevkumar/Downloads/Airline/2000.csv.bz2', '/Users/rajeevkumar/Downloads/Airline/2001.csv.bz2', '/Users/rajeevkumar/Downloads/Airline/2002.csv.bz2', '/Users/rajeevkumar/Downloads/Airline/2003.csv.bz2', '/Users/rajeevkumar/Downloads/Airline/2004.csv.bz2', '/Users/rajeevkumar/Downloads/Airline/2005.csv.bz2', '/Users/rajeevkumar/Downloads/Airline/2006.csv.bz2', '/Users/rajeevkumar/Downloads/Airline/2007.csv.bz2', '/Users/rajeevkumar/Downloads/Airline/2008.csv.bz2']\n"
     ]
    }
   ],
   "source": [
    "# Import URLLIB from Standard Python Library\n",
    "import urllib \n",
    "\n",
    "years_to_download = range(1987,2009) # get the years 1987 through 2008\n",
    "\n",
    "#Base URL\n",
    "baseurl = 'http://stat-computing.org/dataexpo/2009/%d.csv.bz2' \n",
    "\n",
    "# Empty file list\n",
    "files = []\n",
    "\n",
    "# Iterate for each year from 1987 to 2008\n",
    "for year in years_to_download:\n",
    "    # prepare strings\n",
    "    url_of_data_file = baseurl%(year) # get the URL for the data file\n",
    "    save_as_filename = path + '%d.csv.bz2'%(year) \n",
    "    # save as this\n",
    "    files += [save_as_filename] # save name of the compressed file\n",
    "    \n",
    "    # download file\n",
    "    print 'Downloading %s to %s'%(url_of_data_file, save_as_filename) # progress update\n",
    "    urllib.urlretrieve(url_of_data_file, save_as_filename) #execute download\n",
    "    \n",
    "print files    "
   ]
  },
  {
   "cell_type": "code",
   "execution_count": 8,
   "metadata": {},
   "outputs": [
    {
     "name": "stdout",
     "output_type": "stream",
     "text": [
      "Decompressing /Users/rajeevkumar/Downloads/Airline/1987.csv.bz2 to /Users/rajeevkumar/Downloads/Airline/1987.csv\n",
      "Decompressing /Users/rajeevkumar/Downloads/Airline/1988.csv.bz2 to /Users/rajeevkumar/Downloads/Airline/1988.csv\n",
      "Decompressing /Users/rajeevkumar/Downloads/Airline/1989.csv.bz2 to /Users/rajeevkumar/Downloads/Airline/1989.csv\n",
      "Decompressing /Users/rajeevkumar/Downloads/Airline/1990.csv.bz2 to /Users/rajeevkumar/Downloads/Airline/1990.csv\n",
      "Decompressing /Users/rajeevkumar/Downloads/Airline/1991.csv.bz2 to /Users/rajeevkumar/Downloads/Airline/1991.csv\n",
      "Decompressing /Users/rajeevkumar/Downloads/Airline/1992.csv.bz2 to /Users/rajeevkumar/Downloads/Airline/1992.csv\n",
      "Decompressing /Users/rajeevkumar/Downloads/Airline/1993.csv.bz2 to /Users/rajeevkumar/Downloads/Airline/1993.csv\n",
      "Decompressing /Users/rajeevkumar/Downloads/Airline/1994.csv.bz2 to /Users/rajeevkumar/Downloads/Airline/1994.csv\n",
      "Decompressing /Users/rajeevkumar/Downloads/Airline/1995.csv.bz2 to /Users/rajeevkumar/Downloads/Airline/1995.csv\n",
      "Decompressing /Users/rajeevkumar/Downloads/Airline/1996.csv.bz2 to /Users/rajeevkumar/Downloads/Airline/1996.csv\n",
      "Decompressing /Users/rajeevkumar/Downloads/Airline/1997.csv.bz2 to /Users/rajeevkumar/Downloads/Airline/1997.csv\n",
      "Decompressing /Users/rajeevkumar/Downloads/Airline/1998.csv.bz2 to /Users/rajeevkumar/Downloads/Airline/1998.csv\n",
      "Decompressing /Users/rajeevkumar/Downloads/Airline/1999.csv.bz2 to /Users/rajeevkumar/Downloads/Airline/1999.csv\n",
      "Decompressing /Users/rajeevkumar/Downloads/Airline/2000.csv.bz2 to /Users/rajeevkumar/Downloads/Airline/2000.csv\n",
      "Decompressing /Users/rajeevkumar/Downloads/Airline/2001.csv.bz2 to /Users/rajeevkumar/Downloads/Airline/2001.csv\n",
      "Decompressing /Users/rajeevkumar/Downloads/Airline/2002.csv.bz2 to /Users/rajeevkumar/Downloads/Airline/2002.csv\n",
      "Decompressing /Users/rajeevkumar/Downloads/Airline/2003.csv.bz2 to /Users/rajeevkumar/Downloads/Airline/2003.csv\n",
      "Decompressing /Users/rajeevkumar/Downloads/Airline/2004.csv.bz2 to /Users/rajeevkumar/Downloads/Airline/2004.csv\n",
      "Decompressing /Users/rajeevkumar/Downloads/Airline/2005.csv.bz2 to /Users/rajeevkumar/Downloads/Airline/2005.csv\n",
      "Decompressing /Users/rajeevkumar/Downloads/Airline/2006.csv.bz2 to /Users/rajeevkumar/Downloads/Airline/2006.csv\n",
      "Decompressing /Users/rajeevkumar/Downloads/Airline/2007.csv.bz2 to /Users/rajeevkumar/Downloads/Airline/2007.csv\n",
      "Decompressing /Users/rajeevkumar/Downloads/Airline/2008.csv.bz2 to /Users/rajeevkumar/Downloads/Airline/2008.csv\n"
     ]
    }
   ],
   "source": [
    "import bz2 # this is also part of the python standard library\n",
    "\n",
    "# Now lets decompress all the files\n",
    "for filename in files:#[path+'2006.csv.bz2',path+'2007.csv.bz2',path+'2008.csv.bz2']:\n",
    "    # get file names\n",
    "    filepath = filename\n",
    "    newfilepath = filename[:-4]\n",
    "    print 'Decompressing', filepath,'to', newfilepath\n",
    "    \n",
    "    # go through the decompressed chunks and write out to a decompressed file\n",
    "    with open(newfilepath, 'wb') as new_file, bz2.BZ2File(filepath, 'rb') as file:\n",
    "        for data in iter(lambda : file.read(100 * 1024), b''):\n",
    "            new_file.write(data)"
   ]
  },
  {
   "cell_type": "markdown",
   "metadata": {},
   "source": [
    "It took about 17 minutes to decompress all compressed files."
   ]
  },
  {
   "cell_type": "code",
   "execution_count": null,
   "metadata": {},
   "outputs": [],
   "source": [
    "#Remove Decompressed Files from the system\n",
    "!rm '/Users/rajeevkumar/Downloads/Airline/'*.bz2"
   ]
  },
  {
   "cell_type": "markdown",
   "metadata": {},
   "source": [
    "### 5.2 Loading data into memory\n",
    "\n",
    "Now that the data has downloaded and been decompressed, we can load a single file into memory to ensure that everything decompressed correctly. For each file, we could load it into memory and then save the length of the file. "
   ]
  },
  {
   "cell_type": "code",
   "execution_count": 4,
   "metadata": {},
   "outputs": [
    {
     "name": "stdout",
     "output_type": "stream",
     "text": [
      "loading /Users/rajeevkumar/Downloads/Airline//1987.csv\n",
      "CPU times: user 3.54 s, sys: 539 ms, total: 4.08 s\n",
      "Wall time: 4.29 s\n",
      "loading /Users/rajeevkumar/Downloads/Airline//1988.csv\n",
      "CPU times: user 13.2 s, sys: 3.13 s, total: 16.3 s\n",
      "Wall time: 17.3 s\n",
      "Total No of Records: 6513922\n"
     ]
    },
    {
     "data": {
      "text/html": [
       "<div>\n",
       "<table border=\"1\" class=\"dataframe\">\n",
       "  <thead>\n",
       "    <tr style=\"text-align: right;\">\n",
       "      <th></th>\n",
       "      <th>Year</th>\n",
       "      <th>Month</th>\n",
       "      <th>DayofMonth</th>\n",
       "      <th>DayOfWeek</th>\n",
       "      <th>DepTime</th>\n",
       "      <th>CRSDepTime</th>\n",
       "      <th>ArrTime</th>\n",
       "      <th>CRSArrTime</th>\n",
       "      <th>UniqueCarrier</th>\n",
       "      <th>FlightNum</th>\n",
       "      <th>...</th>\n",
       "      <th>TaxiIn</th>\n",
       "      <th>TaxiOut</th>\n",
       "      <th>Cancelled</th>\n",
       "      <th>CancellationCode</th>\n",
       "      <th>Diverted</th>\n",
       "      <th>CarrierDelay</th>\n",
       "      <th>WeatherDelay</th>\n",
       "      <th>NASDelay</th>\n",
       "      <th>SecurityDelay</th>\n",
       "      <th>LateAircraftDelay</th>\n",
       "    </tr>\n",
       "  </thead>\n",
       "  <tbody>\n",
       "    <tr>\n",
       "      <th>0</th>\n",
       "      <td>1988</td>\n",
       "      <td>1</td>\n",
       "      <td>9</td>\n",
       "      <td>6</td>\n",
       "      <td>1348.0</td>\n",
       "      <td>1331</td>\n",
       "      <td>1458.0</td>\n",
       "      <td>1435</td>\n",
       "      <td>PI</td>\n",
       "      <td>942</td>\n",
       "      <td>...</td>\n",
       "      <td>NaN</td>\n",
       "      <td>NaN</td>\n",
       "      <td>0</td>\n",
       "      <td>NaN</td>\n",
       "      <td>0</td>\n",
       "      <td>NaN</td>\n",
       "      <td>NaN</td>\n",
       "      <td>NaN</td>\n",
       "      <td>NaN</td>\n",
       "      <td>NaN</td>\n",
       "    </tr>\n",
       "    <tr>\n",
       "      <th>1</th>\n",
       "      <td>1988</td>\n",
       "      <td>1</td>\n",
       "      <td>10</td>\n",
       "      <td>7</td>\n",
       "      <td>1334.0</td>\n",
       "      <td>1331</td>\n",
       "      <td>1443.0</td>\n",
       "      <td>1435</td>\n",
       "      <td>PI</td>\n",
       "      <td>942</td>\n",
       "      <td>...</td>\n",
       "      <td>NaN</td>\n",
       "      <td>NaN</td>\n",
       "      <td>0</td>\n",
       "      <td>NaN</td>\n",
       "      <td>0</td>\n",
       "      <td>NaN</td>\n",
       "      <td>NaN</td>\n",
       "      <td>NaN</td>\n",
       "      <td>NaN</td>\n",
       "      <td>NaN</td>\n",
       "    </tr>\n",
       "    <tr>\n",
       "      <th>2</th>\n",
       "      <td>1988</td>\n",
       "      <td>1</td>\n",
       "      <td>11</td>\n",
       "      <td>1</td>\n",
       "      <td>1446.0</td>\n",
       "      <td>1331</td>\n",
       "      <td>1553.0</td>\n",
       "      <td>1435</td>\n",
       "      <td>PI</td>\n",
       "      <td>942</td>\n",
       "      <td>...</td>\n",
       "      <td>NaN</td>\n",
       "      <td>NaN</td>\n",
       "      <td>0</td>\n",
       "      <td>NaN</td>\n",
       "      <td>0</td>\n",
       "      <td>NaN</td>\n",
       "      <td>NaN</td>\n",
       "      <td>NaN</td>\n",
       "      <td>NaN</td>\n",
       "      <td>NaN</td>\n",
       "    </tr>\n",
       "    <tr>\n",
       "      <th>3</th>\n",
       "      <td>1988</td>\n",
       "      <td>1</td>\n",
       "      <td>12</td>\n",
       "      <td>2</td>\n",
       "      <td>1334.0</td>\n",
       "      <td>1331</td>\n",
       "      <td>1438.0</td>\n",
       "      <td>1435</td>\n",
       "      <td>PI</td>\n",
       "      <td>942</td>\n",
       "      <td>...</td>\n",
       "      <td>NaN</td>\n",
       "      <td>NaN</td>\n",
       "      <td>0</td>\n",
       "      <td>NaN</td>\n",
       "      <td>0</td>\n",
       "      <td>NaN</td>\n",
       "      <td>NaN</td>\n",
       "      <td>NaN</td>\n",
       "      <td>NaN</td>\n",
       "      <td>NaN</td>\n",
       "    </tr>\n",
       "    <tr>\n",
       "      <th>4</th>\n",
       "      <td>1988</td>\n",
       "      <td>1</td>\n",
       "      <td>13</td>\n",
       "      <td>3</td>\n",
       "      <td>1341.0</td>\n",
       "      <td>1331</td>\n",
       "      <td>1503.0</td>\n",
       "      <td>1435</td>\n",
       "      <td>PI</td>\n",
       "      <td>942</td>\n",
       "      <td>...</td>\n",
       "      <td>NaN</td>\n",
       "      <td>NaN</td>\n",
       "      <td>0</td>\n",
       "      <td>NaN</td>\n",
       "      <td>0</td>\n",
       "      <td>NaN</td>\n",
       "      <td>NaN</td>\n",
       "      <td>NaN</td>\n",
       "      <td>NaN</td>\n",
       "      <td>NaN</td>\n",
       "    </tr>\n",
       "  </tbody>\n",
       "</table>\n",
       "<p>5 rows × 29 columns</p>\n",
       "</div>"
      ],
      "text/plain": [
       "   Year  Month  DayofMonth  DayOfWeek  DepTime  CRSDepTime  ArrTime  \\\n",
       "0  1988      1           9          6   1348.0        1331   1458.0   \n",
       "1  1988      1          10          7   1334.0        1331   1443.0   \n",
       "2  1988      1          11          1   1446.0        1331   1553.0   \n",
       "3  1988      1          12          2   1334.0        1331   1438.0   \n",
       "4  1988      1          13          3   1341.0        1331   1503.0   \n",
       "\n",
       "   CRSArrTime UniqueCarrier  FlightNum        ...          TaxiIn  TaxiOut  \\\n",
       "0        1435            PI        942        ...             NaN      NaN   \n",
       "1        1435            PI        942        ...             NaN      NaN   \n",
       "2        1435            PI        942        ...             NaN      NaN   \n",
       "3        1435            PI        942        ...             NaN      NaN   \n",
       "4        1435            PI        942        ...             NaN      NaN   \n",
       "\n",
       "   Cancelled  CancellationCode  Diverted  CarrierDelay WeatherDelay NASDelay  \\\n",
       "0          0               NaN         0           NaN          NaN      NaN   \n",
       "1          0               NaN         0           NaN          NaN      NaN   \n",
       "2          0               NaN         0           NaN          NaN      NaN   \n",
       "3          0               NaN         0           NaN          NaN      NaN   \n",
       "4          0               NaN         0           NaN          NaN      NaN   \n",
       "\n",
       "   SecurityDelay  LateAircraftDelay  \n",
       "0            NaN                NaN  \n",
       "1            NaN                NaN  \n",
       "2            NaN                NaN  \n",
       "3            NaN                NaN  \n",
       "4            NaN                NaN  \n",
       "\n",
       "[5 rows x 29 columns]"
      ]
     },
     "execution_count": 4,
     "metadata": {},
     "output_type": "execute_result"
    }
   ],
   "source": [
    "# Loading individual files in python\n",
    "import pandas as pd\n",
    "import numpy as np\n",
    "import sys\n",
    "\n",
    "total_length = 0\n",
    "\n",
    "for year in [1987,1988]:\n",
    "    # get file name of the csv\n",
    "    csvfile = path+'/%d.csv'%(year)\n",
    "    print 'loading', csvfile\n",
    "    \n",
    "    #To print from Buffer to standard output\n",
    "    sys.stdout.flush()\n",
    "    \n",
    "    # read the file and increment the lines count\n",
    "    %time df = pd.read_csv(csvfile) \n",
    "    \n",
    "    total_length += len(df)\n",
    "\n",
    "print 'Total No of Records:', total_length \n",
    "df.head()"
   ]
  },
  {
   "cell_type": "markdown",
   "metadata": {},
   "source": [
    "It took about 20s to load 1987 and 1988 files into memory. The data for some of the columns Taxiln, TaxiOut, CancellationCode, etc. are not available."
   ]
  },
  {
   "cell_type": "code",
   "execution_count": 13,
   "metadata": {},
   "outputs": [
    {
     "name": "stdout",
     "output_type": "stream",
     "text": [
      "CSV File Format\n",
      "Year,Month,DayofMonth,DayOfWeek,DepTime,CRSDepTime,ArrTime,CRSArrTime,UniqueCarrier,FlightNum,TailNum,ActualElapsedTime,CRSElapsedTime,AirTime,ArrDelay,DepDelay,Origin,Dest,Distance,TaxiIn,TaxiOut,Cancelled,CancellationCode,Diverted,CarrierDelay,WeatherDelay,NASDelay,SecurityDelay,LateAircraftDelay\r\n",
      "1987,10,14,3,741,730,912,849,PS,1451,NA,91,79,NA,23,11,SAN,SFO,447,NA,NA,0,NA,0,NA,NA,NA,NA,NA\r\n",
      "1987,10,15,4,729,730,903,849,PS,1451,NA,94,79,NA,14,-1,SAN,SFO,447,NA,NA,0,NA,0,NA,NA,NA,NA,NA\r\n",
      "1987,10,17,6,741,730,918,849,PS,1451,NA,97,79,NA,29,11,SAN,SFO,447,NA,NA,0,NA,0,NA,NA,NA,NA,NA\r\n",
      "1987,10,18,7,729,730,847,849,PS,1451,NA,78,79,NA,-2,-1,SAN,SFO,447,NA,NA,0,NA,0,NA,NA,NA,NA,NA\r\n",
      "1987,10,19,1,749,730,922,849,PS,1451,NA,93,79,NA,33,19,SAN,SFO,447,NA,NA,0,NA,0,NA,NA,NA,NA,NA\r\n",
      "1987,10,21,3,728,730,848,849,PS,1451,NA,80,79,NA,-1,-2,SAN,SFO,447,NA,NA,0,NA,0,NA,NA,NA,NA,NA\r\n",
      "1987,10,22,4,728,730,852,849,PS,1451,NA,84,79,NA,3,-2,SAN,SFO,447,NA,NA,0,NA,0,NA,NA,NA,NA,NA\r\n",
      "1987,10,23,5,731,730,902,849,PS,1451,NA,91,79,NA,13,1,SAN,SFO,447,NA,NA,0,NA,0,NA,NA,NA,NA,NA\r\n",
      "1987,10,24,6,744,730,908,849,PS,1451,NA,84,79,NA,19,14,SAN,SFO,447,NA,NA,0,NA,0,NA,NA,NA,NA,NA\r\n"
     ]
    }
   ],
   "source": [
    "# Print Content of File using using Unix Shell Command head\n",
    "\n",
    "print 'CSV File Format'\n",
    "!head '/Users/rajeevkumar/Downloads/Airline/1987.csv'"
   ]
  },
  {
   "cell_type": "markdown",
   "metadata": {},
   "source": [
    "### 5.3 Data Exploration using Python Graphlab"
   ]
  },
  {
   "cell_type": "code",
   "execution_count": 6,
   "metadata": {
    "collapsed": true
   },
   "outputs": [],
   "source": [
    "#pip install graphlab-create\n",
    "#pip install graphlab-create --upgrade\n",
    "#Import Graphlab library\n",
    "\n",
    "import graphlab as gl"
   ]
  },
  {
   "cell_type": "code",
   "execution_count": 19,
   "metadata": {
    "scrolled": false
   },
   "outputs": [
    {
     "name": "stdout",
     "output_type": "stream",
     "text": [
      "read 0 lines, reading next file 1987.csv\n"
     ]
    },
    {
     "data": {
      "text/html": [
       "<pre>Read 540959 lines. Lines per second: 191600</pre>"
      ],
      "text/plain": [
       "Read 540959 lines. Lines per second: 191600"
      ]
     },
     "metadata": {},
     "output_type": "display_data"
    },
    {
     "data": {
      "text/html": [
       "<pre>Finished parsing file /Users/rajeevkumar/Downloads/Airline/1987.csv</pre>"
      ],
      "text/plain": [
       "Finished parsing file /Users/rajeevkumar/Downloads/Airline/1987.csv"
      ]
     },
     "metadata": {},
     "output_type": "display_data"
    },
    {
     "data": {
      "text/html": [
       "<pre>Parsing completed. Parsed 1311826 lines in 3.90002 secs.</pre>"
      ],
      "text/plain": [
       "Parsing completed. Parsed 1311826 lines in 3.90002 secs."
      ]
     },
     "metadata": {},
     "output_type": "display_data"
    },
    {
     "name": "stdout",
     "output_type": "stream",
     "text": [
      "read 1311826 lines, reading next file 1988.csv\n"
     ]
    },
    {
     "data": {
      "text/html": [
       "<pre>Read 1092265 lines. Lines per second: 322194</pre>"
      ],
      "text/plain": [
       "Read 1092265 lines. Lines per second: 322194"
      ]
     },
     "metadata": {},
     "output_type": "display_data"
    },
    {
     "data": {
      "text/html": [
       "<pre>Read 3821852 lines. Lines per second: 430351</pre>"
      ],
      "text/plain": [
       "Read 3821852 lines. Lines per second: 430351"
      ]
     },
     "metadata": {},
     "output_type": "display_data"
    },
    {
     "data": {
      "text/html": [
       "<pre>Finished parsing file /Users/rajeevkumar/Downloads/Airline/1988.csv</pre>"
      ],
      "text/plain": [
       "Finished parsing file /Users/rajeevkumar/Downloads/Airline/1988.csv"
      ]
     },
     "metadata": {},
     "output_type": "display_data"
    },
    {
     "data": {
      "text/html": [
       "<pre>Parsing completed. Parsed 5202096 lines in 11.0597 secs.</pre>"
      ],
      "text/plain": [
       "Parsing completed. Parsed 5202096 lines in 11.0597 secs."
      ]
     },
     "metadata": {},
     "output_type": "display_data"
    },
    {
     "name": "stdout",
     "output_type": "stream",
     "text": [
      "read 6513922 lines, reading next file 1989.csv\n"
     ]
    },
    {
     "data": {
      "text/html": [
       "<pre>Read 545019 lines. Lines per second: 187277</pre>"
      ],
      "text/plain": [
       "Read 545019 lines. Lines per second: 187277"
      ]
     },
     "metadata": {},
     "output_type": "display_data"
    },
    {
     "data": {
      "text/html": [
       "<pre>Read 3269128 lines. Lines per second: 367626</pre>"
      ],
      "text/plain": [
       "Read 3269128 lines. Lines per second: 367626"
      ]
     },
     "metadata": {},
     "output_type": "display_data"
    },
    {
     "data": {
      "text/html": [
       "<pre>Finished parsing file /Users/rajeevkumar/Downloads/Airline/1989.csv</pre>"
      ],
      "text/plain": [
       "Finished parsing file /Users/rajeevkumar/Downloads/Airline/1989.csv"
      ]
     },
     "metadata": {},
     "output_type": "display_data"
    },
    {
     "data": {
      "text/html": [
       "<pre>Parsing completed. Parsed 5041200 lines in 12.4483 secs.</pre>"
      ],
      "text/plain": [
       "Parsing completed. Parsed 5041200 lines in 12.4483 secs."
      ]
     },
     "metadata": {},
     "output_type": "display_data"
    },
    {
     "name": "stdout",
     "output_type": "stream",
     "text": [
      "read 11555122 lines, reading next file 1990.csv\n"
     ]
    },
    {
     "data": {
      "text/html": [
       "<pre>Read 545116 lines. Lines per second: 219789</pre>"
      ],
      "text/plain": [
       "Read 545116 lines. Lines per second: 219789"
      ]
     },
     "metadata": {},
     "output_type": "display_data"
    },
    {
     "data": {
      "text/html": [
       "<pre>Read 2722223 lines. Lines per second: 349750</pre>"
      ],
      "text/plain": [
       "Read 2722223 lines. Lines per second: 349750"
      ]
     },
     "metadata": {},
     "output_type": "display_data"
    },
    {
     "data": {
      "text/html": [
       "<pre>Read 4888265 lines. Lines per second: 381025</pre>"
      ],
      "text/plain": [
       "Read 4888265 lines. Lines per second: 381025"
      ]
     },
     "metadata": {},
     "output_type": "display_data"
    },
    {
     "data": {
      "text/html": [
       "<pre>Finished parsing file /Users/rajeevkumar/Downloads/Airline/1990.csv</pre>"
      ],
      "text/plain": [
       "Finished parsing file /Users/rajeevkumar/Downloads/Airline/1990.csv"
      ]
     },
     "metadata": {},
     "output_type": "display_data"
    },
    {
     "data": {
      "text/html": [
       "<pre>Parsing completed. Parsed 5270893 lines in 13.3722 secs.</pre>"
      ],
      "text/plain": [
       "Parsing completed. Parsed 5270893 lines in 13.3722 secs."
      ]
     },
     "metadata": {},
     "output_type": "display_data"
    },
    {
     "name": "stdout",
     "output_type": "stream",
     "text": [
      "read 16826015 lines, reading next file 1991.csv\n"
     ]
    },
    {
     "data": {
      "text/html": [
       "<pre>Read 1086655 lines. Lines per second: 258913</pre>"
      ],
      "text/plain": [
       "Read 1086655 lines. Lines per second: 258913"
      ]
     },
     "metadata": {},
     "output_type": "display_data"
    },
    {
     "data": {
      "text/html": [
       "<pre>Read 3259409 lines. Lines per second: 357143</pre>"
      ],
      "text/plain": [
       "Read 3259409 lines. Lines per second: 357143"
      ]
     },
     "metadata": {},
     "output_type": "display_data"
    },
    {
     "data": {
      "text/html": [
       "<pre>Finished parsing file /Users/rajeevkumar/Downloads/Airline/1991.csv</pre>"
      ],
      "text/plain": [
       "Finished parsing file /Users/rajeevkumar/Downloads/Airline/1991.csv"
      ]
     },
     "metadata": {},
     "output_type": "display_data"
    },
    {
     "data": {
      "text/html": [
       "<pre>Parsing completed. Parsed 5076925 lines in 12.91 secs.</pre>"
      ],
      "text/plain": [
       "Parsing completed. Parsed 5076925 lines in 12.91 secs."
      ]
     },
     "metadata": {},
     "output_type": "display_data"
    },
    {
     "name": "stdout",
     "output_type": "stream",
     "text": [
      "read 21902940 lines, reading next file 1992.csv\n"
     ]
    },
    {
     "data": {
      "text/html": [
       "<pre>Read 544035 lines. Lines per second: 187527</pre>"
      ],
      "text/plain": [
       "Read 544035 lines. Lines per second: 187527"
      ]
     },
     "metadata": {},
     "output_type": "display_data"
    },
    {
     "data": {
      "text/html": [
       "<pre>Read 2718958 lines. Lines per second: 343706</pre>"
      ],
      "text/plain": [
       "Read 2718958 lines. Lines per second: 343706"
      ]
     },
     "metadata": {},
     "output_type": "display_data"
    },
    {
     "data": {
      "text/html": [
       "<pre>Read 4882768 lines. Lines per second: 366428</pre>"
      ],
      "text/plain": [
       "Read 4882768 lines. Lines per second: 366428"
      ]
     },
     "metadata": {},
     "output_type": "display_data"
    },
    {
     "data": {
      "text/html": [
       "<pre>Finished parsing file /Users/rajeevkumar/Downloads/Airline/1992.csv</pre>"
      ],
      "text/plain": [
       "Finished parsing file /Users/rajeevkumar/Downloads/Airline/1992.csv"
      ]
     },
     "metadata": {},
     "output_type": "display_data"
    },
    {
     "data": {
      "text/html": [
       "<pre>Parsing completed. Parsed 5092157 lines in 13.6657 secs.</pre>"
      ],
      "text/plain": [
       "Parsing completed. Parsed 5092157 lines in 13.6657 secs."
      ]
     },
     "metadata": {},
     "output_type": "display_data"
    },
    {
     "name": "stdout",
     "output_type": "stream",
     "text": [
      "read 26995097 lines, reading next file 1993.csv\n"
     ]
    },
    {
     "data": {
      "text/html": [
       "<pre>Read 1086617 lines. Lines per second: 246246</pre>"
      ],
      "text/plain": [
       "Read 1086617 lines. Lines per second: 246246"
      ]
     },
     "metadata": {},
     "output_type": "display_data"
    },
    {
     "data": {
      "text/html": [
       "<pre>Read 3259789 lines. Lines per second: 346388</pre>"
      ],
      "text/plain": [
       "Read 3259789 lines. Lines per second: 346388"
      ]
     },
     "metadata": {},
     "output_type": "display_data"
    },
    {
     "data": {
      "text/html": [
       "<pre>Finished parsing file /Users/rajeevkumar/Downloads/Airline/1993.csv</pre>"
      ],
      "text/plain": [
       "Finished parsing file /Users/rajeevkumar/Downloads/Airline/1993.csv"
      ]
     },
     "metadata": {},
     "output_type": "display_data"
    },
    {
     "data": {
      "text/html": [
       "<pre>Parsing completed. Parsed 5070501 lines in 12.689 secs.</pre>"
      ],
      "text/plain": [
       "Parsing completed. Parsed 5070501 lines in 12.689 secs."
      ]
     },
     "metadata": {},
     "output_type": "display_data"
    },
    {
     "name": "stdout",
     "output_type": "stream",
     "text": [
      "read 32065598 lines, reading next file 1994.csv\n"
     ]
    },
    {
     "data": {
      "text/html": [
       "<pre>Read 543673 lines. Lines per second: 229211</pre>"
      ],
      "text/plain": [
       "Read 543673 lines. Lines per second: 229211"
      ]
     },
     "metadata": {},
     "output_type": "display_data"
    },
    {
     "data": {
      "text/html": [
       "<pre>Read 2715338 lines. Lines per second: 360922</pre>"
      ],
      "text/plain": [
       "Read 2715338 lines. Lines per second: 360922"
      ]
     },
     "metadata": {},
     "output_type": "display_data"
    },
    {
     "data": {
      "text/html": [
       "<pre>Finished parsing file /Users/rajeevkumar/Downloads/Airline/1994.csv</pre>"
      ],
      "text/plain": [
       "Finished parsing file /Users/rajeevkumar/Downloads/Airline/1994.csv"
      ]
     },
     "metadata": {},
     "output_type": "display_data"
    },
    {
     "data": {
      "text/html": [
       "<pre>Parsing completed. Parsed 5180048 lines in 12.0205 secs.</pre>"
      ],
      "text/plain": [
       "Parsing completed. Parsed 5180048 lines in 12.0205 secs."
      ]
     },
     "metadata": {},
     "output_type": "display_data"
    },
    {
     "name": "stdout",
     "output_type": "stream",
     "text": [
      "read 37245646 lines, reading next file 1995.csv\n"
     ]
    },
    {
     "data": {
      "text/html": [
       "<pre>Read 527246 lines. Lines per second: 222898</pre>"
      ],
      "text/plain": [
       "Read 527246 lines. Lines per second: 222898"
      ]
     },
     "metadata": {},
     "output_type": "display_data"
    },
    {
     "data": {
      "text/html": [
       "<pre>Read 3163202 lines. Lines per second: 395488</pre>"
      ],
      "text/plain": [
       "Read 3163202 lines. Lines per second: 395488"
      ]
     },
     "metadata": {},
     "output_type": "display_data"
    },
    {
     "data": {
      "text/html": [
       "<pre>Finished parsing file /Users/rajeevkumar/Downloads/Airline/1995.csv</pre>"
      ],
      "text/plain": [
       "Finished parsing file /Users/rajeevkumar/Downloads/Airline/1995.csv"
      ]
     },
     "metadata": {},
     "output_type": "display_data"
    },
    {
     "data": {
      "text/html": [
       "<pre>Parsing completed. Parsed 5327435 lines in 12.375 secs.</pre>"
      ],
      "text/plain": [
       "Parsing completed. Parsed 5327435 lines in 12.375 secs."
      ]
     },
     "metadata": {},
     "output_type": "display_data"
    },
    {
     "name": "stdout",
     "output_type": "stream",
     "text": [
      "read 42573081 lines, reading next file 1996.csv\n"
     ]
    },
    {
     "data": {
      "text/html": [
       "<pre>Read 530202 lines. Lines per second: 204069</pre>"
      ],
      "text/plain": [
       "Read 530202 lines. Lines per second: 204069"
      ]
     },
     "metadata": {},
     "output_type": "display_data"
    },
    {
     "data": {
      "text/html": [
       "<pre>Read 3162757 lines. Lines per second: 355079</pre>"
      ],
      "text/plain": [
       "Read 3162757 lines. Lines per second: 355079"
      ]
     },
     "metadata": {},
     "output_type": "display_data"
    },
    {
     "data": {
      "text/html": [
       "<pre>Read 5255798 lines. Lines per second: 374742</pre>"
      ],
      "text/plain": [
       "Read 5255798 lines. Lines per second: 374742"
      ]
     },
     "metadata": {},
     "output_type": "display_data"
    },
    {
     "data": {
      "text/html": [
       "<pre>Finished parsing file /Users/rajeevkumar/Downloads/Airline/1996.csv</pre>"
      ],
      "text/plain": [
       "Finished parsing file /Users/rajeevkumar/Downloads/Airline/1996.csv"
      ]
     },
     "metadata": {},
     "output_type": "display_data"
    },
    {
     "data": {
      "text/html": [
       "<pre>Parsing completed. Parsed 5351983 lines in 14.2114 secs.</pre>"
      ],
      "text/plain": [
       "Parsing completed. Parsed 5351983 lines in 14.2114 secs."
      ]
     },
     "metadata": {},
     "output_type": "display_data"
    },
    {
     "name": "stdout",
     "output_type": "stream",
     "text": [
      "read 47925064 lines, reading next file 1997.csv\n"
     ]
    },
    {
     "data": {
      "text/html": [
       "<pre>Read 1055369 lines. Lines per second: 267928</pre>"
      ],
      "text/plain": [
       "Read 1055369 lines. Lines per second: 267928"
      ]
     },
     "metadata": {},
     "output_type": "display_data"
    },
    {
     "data": {
      "text/html": [
       "<pre>Read 3684987 lines. Lines per second: 352918</pre>"
      ],
      "text/plain": [
       "Read 3684987 lines. Lines per second: 352918"
      ]
     },
     "metadata": {},
     "output_type": "display_data"
    },
    {
     "data": {
      "text/html": [
       "<pre>Finished parsing file /Users/rajeevkumar/Downloads/Airline/1997.csv</pre>"
      ],
      "text/plain": [
       "Finished parsing file /Users/rajeevkumar/Downloads/Airline/1997.csv"
      ]
     },
     "metadata": {},
     "output_type": "display_data"
    },
    {
     "data": {
      "text/html": [
       "<pre>Parsing completed. Parsed 5411843 lines in 14.6508 secs.</pre>"
      ],
      "text/plain": [
       "Parsing completed. Parsed 5411843 lines in 14.6508 secs."
      ]
     },
     "metadata": {},
     "output_type": "display_data"
    },
    {
     "name": "stdout",
     "output_type": "stream",
     "text": [
      "read 53336907 lines, reading next file 1998.csv\n"
     ]
    },
    {
     "data": {
      "text/html": [
       "<pre>Read 528414 lines. Lines per second: 207869</pre>"
      ],
      "text/plain": [
       "Read 528414 lines. Lines per second: 207869"
      ]
     },
     "metadata": {},
     "output_type": "display_data"
    },
    {
     "data": {
      "text/html": [
       "<pre>Read 3155154 lines. Lines per second: 380026</pre>"
      ],
      "text/plain": [
       "Read 3155154 lines. Lines per second: 380026"
      ]
     },
     "metadata": {},
     "output_type": "display_data"
    },
    {
     "data": {
      "text/html": [
       "<pre>Finished parsing file /Users/rajeevkumar/Downloads/Airline/1998.csv</pre>"
      ],
      "text/plain": [
       "Finished parsing file /Users/rajeevkumar/Downloads/Airline/1998.csv"
      ]
     },
     "metadata": {},
     "output_type": "display_data"
    },
    {
     "data": {
      "text/html": [
       "<pre>Parsing completed. Parsed 5384721 lines in 12.8708 secs.</pre>"
      ],
      "text/plain": [
       "Parsing completed. Parsed 5384721 lines in 12.8708 secs."
      ]
     },
     "metadata": {},
     "output_type": "display_data"
    },
    {
     "name": "stdout",
     "output_type": "stream",
     "text": [
      "read 58721628 lines, reading next file 1999.csv\n"
     ]
    },
    {
     "data": {
      "text/html": [
       "<pre>Read 524911 lines. Lines per second: 183843</pre>"
      ],
      "text/plain": [
       "Read 524911 lines. Lines per second: 183843"
      ]
     },
     "metadata": {},
     "output_type": "display_data"
    },
    {
     "data": {
      "text/html": [
       "<pre>Read 2627946 lines. Lines per second: 334919</pre>"
      ],
      "text/plain": [
       "Read 2627946 lines. Lines per second: 334919"
      ]
     },
     "metadata": {},
     "output_type": "display_data"
    },
    {
     "data": {
      "text/html": [
       "<pre>Read 5245036 lines. Lines per second: 387355</pre>"
      ],
      "text/plain": [
       "Read 5245036 lines. Lines per second: 387355"
      ]
     },
     "metadata": {},
     "output_type": "display_data"
    },
    {
     "data": {
      "text/html": [
       "<pre>Finished parsing file /Users/rajeevkumar/Downloads/Airline/1999.csv</pre>"
      ],
      "text/plain": [
       "Finished parsing file /Users/rajeevkumar/Downloads/Airline/1999.csv"
      ]
     },
     "metadata": {},
     "output_type": "display_data"
    },
    {
     "data": {
      "text/html": [
       "<pre>Parsing completed. Parsed 5527884 lines in 13.9572 secs.</pre>"
      ],
      "text/plain": [
       "Parsing completed. Parsed 5527884 lines in 13.9572 secs."
      ]
     },
     "metadata": {},
     "output_type": "display_data"
    },
    {
     "name": "stdout",
     "output_type": "stream",
     "text": [
      "read 64249512 lines, reading next file 2000.csv\n"
     ]
    },
    {
     "data": {
      "text/html": [
       "<pre>Read 1048639 lines. Lines per second: 290656</pre>"
      ],
      "text/plain": [
       "Read 1048639 lines. Lines per second: 290656"
      ]
     },
     "metadata": {},
     "output_type": "display_data"
    },
    {
     "data": {
      "text/html": [
       "<pre>Read 3667722 lines. Lines per second: 387250</pre>"
      ],
      "text/plain": [
       "Read 3667722 lines. Lines per second: 387250"
      ]
     },
     "metadata": {},
     "output_type": "display_data"
    },
    {
     "data": {
      "text/html": [
       "<pre>Finished parsing file /Users/rajeevkumar/Downloads/Airline/2000.csv</pre>"
      ],
      "text/plain": [
       "Finished parsing file /Users/rajeevkumar/Downloads/Airline/2000.csv"
      ]
     },
     "metadata": {},
     "output_type": "display_data"
    },
    {
     "data": {
      "text/html": [
       "<pre>Parsing completed. Parsed 5683047 lines in 13.4523 secs.</pre>"
      ],
      "text/plain": [
       "Parsing completed. Parsed 5683047 lines in 13.4523 secs."
      ]
     },
     "metadata": {},
     "output_type": "display_data"
    },
    {
     "name": "stdout",
     "output_type": "stream",
     "text": [
      "read 69932559 lines, reading next file 2001.csv\n"
     ]
    },
    {
     "data": {
      "text/html": [
       "<pre>Read 522034 lines. Lines per second: 225482</pre>"
      ],
      "text/plain": [
       "Read 522034 lines. Lines per second: 225482"
      ]
     },
     "metadata": {},
     "output_type": "display_data"
    },
    {
     "data": {
      "text/html": [
       "<pre>Read 3132289 lines. Lines per second: 402134</pre>"
      ],
      "text/plain": [
       "Read 3132289 lines. Lines per second: 402134"
      ]
     },
     "metadata": {},
     "output_type": "display_data"
    },
    {
     "data": {
      "text/html": [
       "<pre>Read 5735547 lines. Lines per second: 441524</pre>"
      ],
      "text/plain": [
       "Read 5735547 lines. Lines per second: 441524"
      ]
     },
     "metadata": {},
     "output_type": "display_data"
    },
    {
     "data": {
      "text/html": [
       "<pre>Finished parsing file /Users/rajeevkumar/Downloads/Airline/2001.csv</pre>"
      ],
      "text/plain": [
       "Finished parsing file /Users/rajeevkumar/Downloads/Airline/2001.csv"
      ]
     },
     "metadata": {},
     "output_type": "display_data"
    },
    {
     "data": {
      "text/html": [
       "<pre>Parsing completed. Parsed 5967780 lines in 13.331 secs.</pre>"
      ],
      "text/plain": [
       "Parsing completed. Parsed 5967780 lines in 13.331 secs."
      ]
     },
     "metadata": {},
     "output_type": "display_data"
    },
    {
     "name": "stdout",
     "output_type": "stream",
     "text": [
      "read 75900339 lines, reading next file 2002.csv\n"
     ]
    },
    {
     "data": {
      "text/html": [
       "<pre>Read 1567021 lines. Lines per second: 347140</pre>"
      ],
      "text/plain": [
       "Read 1567021 lines. Lines per second: 347140"
      ]
     },
     "metadata": {},
     "output_type": "display_data"
    },
    {
     "data": {
      "text/html": [
       "<pre>Read 4177963 lines. Lines per second: 413622</pre>"
      ],
      "text/plain": [
       "Read 4177963 lines. Lines per second: 413622"
      ]
     },
     "metadata": {},
     "output_type": "display_data"
    },
    {
     "data": {
      "text/html": [
       "<pre>Finished parsing file /Users/rajeevkumar/Downloads/Airline/2002.csv</pre>"
      ],
      "text/plain": [
       "Finished parsing file /Users/rajeevkumar/Downloads/Airline/2002.csv"
      ]
     },
     "metadata": {},
     "output_type": "display_data"
    },
    {
     "data": {
      "text/html": [
       "<pre>Parsing completed. Parsed 5271359 lines in 11.9933 secs.</pre>"
      ],
      "text/plain": [
       "Parsing completed. Parsed 5271359 lines in 11.9933 secs."
      ]
     },
     "metadata": {},
     "output_type": "display_data"
    },
    {
     "name": "stdout",
     "output_type": "stream",
     "text": [
      "read 81171698 lines, reading next file 2003.csv\n"
     ]
    },
    {
     "data": {
      "text/html": [
       "<pre>Read 522593 lines. Lines per second: 223097</pre>"
      ],
      "text/plain": [
       "Read 522593 lines. Lines per second: 223097"
      ]
     },
     "metadata": {},
     "output_type": "display_data"
    },
    {
     "data": {
      "text/html": [
       "<pre>Read 2614044 lines. Lines per second: 335751</pre>"
      ],
      "text/plain": [
       "Read 2614044 lines. Lines per second: 335751"
      ]
     },
     "metadata": {},
     "output_type": "display_data"
    },
    {
     "data": {
      "text/html": [
       "<pre>Read 4850736 lines. Lines per second: 366708</pre>"
      ],
      "text/plain": [
       "Read 4850736 lines. Lines per second: 366708"
      ]
     },
     "metadata": {},
     "output_type": "display_data"
    },
    {
     "data": {
      "text/html": [
       "<pre>Finished parsing file /Users/rajeevkumar/Downloads/Airline/2003.csv</pre>"
      ],
      "text/plain": [
       "Finished parsing file /Users/rajeevkumar/Downloads/Airline/2003.csv"
      ]
     },
     "metadata": {},
     "output_type": "display_data"
    },
    {
     "data": {
      "text/html": [
       "<pre>Parsing completed. Parsed 6488540 lines in 16.9272 secs.</pre>"
      ],
      "text/plain": [
       "Parsing completed. Parsed 6488540 lines in 16.9272 secs."
      ]
     },
     "metadata": {},
     "output_type": "display_data"
    },
    {
     "name": "stdout",
     "output_type": "stream",
     "text": [
      "read 87660238 lines, reading next file 2004.csv\n"
     ]
    },
    {
     "data": {
      "text/html": [
       "<pre>Read 560245 lines. Lines per second: 180349</pre>"
      ],
      "text/plain": [
       "Read 560245 lines. Lines per second: 180349"
      ]
     },
     "metadata": {},
     "output_type": "display_data"
    },
    {
     "data": {
      "text/html": [
       "<pre>Read 2238808 lines. Lines per second: 276429</pre>"
      ],
      "text/plain": [
       "Read 2238808 lines. Lines per second: 276429"
      ]
     },
     "metadata": {},
     "output_type": "display_data"
    },
    {
     "data": {
      "text/html": [
       "<pre>Read 4476341 lines. Lines per second: 304570</pre>"
      ],
      "text/plain": [
       "Read 4476341 lines. Lines per second: 304570"
      ]
     },
     "metadata": {},
     "output_type": "display_data"
    },
    {
     "data": {
      "text/html": [
       "<pre>Read 6147859 lines. Lines per second: 301877</pre>"
      ],
      "text/plain": [
       "Read 6147859 lines. Lines per second: 301877"
      ]
     },
     "metadata": {},
     "output_type": "display_data"
    },
    {
     "data": {
      "text/html": [
       "<pre>Finished parsing file /Users/rajeevkumar/Downloads/Airline/2004.csv</pre>"
      ],
      "text/plain": [
       "Finished parsing file /Users/rajeevkumar/Downloads/Airline/2004.csv"
      ]
     },
     "metadata": {},
     "output_type": "display_data"
    },
    {
     "data": {
      "text/html": [
       "<pre>Parsing completed. Parsed 7129270 lines in 22.6599 secs.</pre>"
      ],
      "text/plain": [
       "Parsing completed. Parsed 7129270 lines in 22.6599 secs."
      ]
     },
     "metadata": {},
     "output_type": "display_data"
    },
    {
     "name": "stdout",
     "output_type": "stream",
     "text": [
      "read 94789508 lines, reading next file 2005.csv\n"
     ]
    },
    {
     "data": {
      "text/html": [
       "<pre>Read 560141 lines. Lines per second: 120532</pre>"
      ],
      "text/plain": [
       "Read 560141 lines. Lines per second: 120532"
      ]
     },
     "metadata": {},
     "output_type": "display_data"
    },
    {
     "data": {
      "text/html": [
       "<pre>Read 2239266 lines. Lines per second: 218344</pre>"
      ],
      "text/plain": [
       "Read 2239266 lines. Lines per second: 218344"
      ]
     },
     "metadata": {},
     "output_type": "display_data"
    },
    {
     "data": {
      "text/html": [
       "<pre>Read 4477394 lines. Lines per second: 277219</pre>"
      ],
      "text/plain": [
       "Read 4477394 lines. Lines per second: 277219"
      ]
     },
     "metadata": {},
     "output_type": "display_data"
    },
    {
     "data": {
      "text/html": [
       "<pre>Read 6700868 lines. Lines per second: 313805</pre>"
      ],
      "text/plain": [
       "Read 6700868 lines. Lines per second: 313805"
      ]
     },
     "metadata": {},
     "output_type": "display_data"
    },
    {
     "data": {
      "text/html": [
       "<pre>Finished parsing file /Users/rajeevkumar/Downloads/Airline/2005.csv</pre>"
      ],
      "text/plain": [
       "Finished parsing file /Users/rajeevkumar/Downloads/Airline/2005.csv"
      ]
     },
     "metadata": {},
     "output_type": "display_data"
    },
    {
     "data": {
      "text/html": [
       "<pre>Parsing completed. Parsed 7140596 lines in 23.3926 secs.</pre>"
      ],
      "text/plain": [
       "Parsing completed. Parsed 7140596 lines in 23.3926 secs."
      ]
     },
     "metadata": {},
     "output_type": "display_data"
    },
    {
     "name": "stdout",
     "output_type": "stream",
     "text": [
      "read 101930104 lines, reading next file 2006.csv\n"
     ]
    },
    {
     "data": {
      "text/html": [
       "<pre>Read 558959 lines. Lines per second: 179205</pre>"
      ],
      "text/plain": [
       "Read 558959 lines. Lines per second: 179205"
      ]
     },
     "metadata": {},
     "output_type": "display_data"
    },
    {
     "data": {
      "text/html": [
       "<pre>Read 2795140 lines. Lines per second: 315674</pre>"
      ],
      "text/plain": [
       "Read 2795140 lines. Lines per second: 315674"
      ]
     },
     "metadata": {},
     "output_type": "display_data"
    },
    {
     "data": {
      "text/html": [
       "<pre>Read 5030405 lines. Lines per second: 352765</pre>"
      ],
      "text/plain": [
       "Read 5030405 lines. Lines per second: 352765"
      ]
     },
     "metadata": {},
     "output_type": "display_data"
    },
    {
     "data": {
      "text/html": [
       "<pre>Read 6691385 lines. Lines per second: 325231</pre>"
      ],
      "text/plain": [
       "Read 6691385 lines. Lines per second: 325231"
      ]
     },
     "metadata": {},
     "output_type": "display_data"
    },
    {
     "data": {
      "text/html": [
       "<pre>Finished parsing file /Users/rajeevkumar/Downloads/Airline/2006.csv</pre>"
      ],
      "text/plain": [
       "Finished parsing file /Users/rajeevkumar/Downloads/Airline/2006.csv"
      ]
     },
     "metadata": {},
     "output_type": "display_data"
    },
    {
     "data": {
      "text/html": [
       "<pre>Parsing completed. Parsed 7141922 lines in 21.5557 secs.</pre>"
      ],
      "text/plain": [
       "Parsing completed. Parsed 7141922 lines in 21.5557 secs."
      ]
     },
     "metadata": {},
     "output_type": "display_data"
    },
    {
     "name": "stdout",
     "output_type": "stream",
     "text": [
      "read 109072026 lines, reading next file 2007.csv\n"
     ]
    },
    {
     "data": {
      "text/html": [
       "<pre>Read 559204 lines. Lines per second: 203838</pre>"
      ],
      "text/plain": [
       "Read 559204 lines. Lines per second: 203838"
      ]
     },
     "metadata": {},
     "output_type": "display_data"
    },
    {
     "data": {
      "text/html": [
       "<pre>Read 2790681 lines. Lines per second: 336278</pre>"
      ],
      "text/plain": [
       "Read 2790681 lines. Lines per second: 336278"
      ]
     },
     "metadata": {},
     "output_type": "display_data"
    },
    {
     "data": {
      "text/html": [
       "<pre>Read 5019063 lines. Lines per second: 371415</pre>"
      ],
      "text/plain": [
       "Read 5019063 lines. Lines per second: 371415"
      ]
     },
     "metadata": {},
     "output_type": "display_data"
    },
    {
     "data": {
      "text/html": [
       "<pre>Read 6679816 lines. Lines per second: 345255</pre>"
      ],
      "text/plain": [
       "Read 6679816 lines. Lines per second: 345255"
      ]
     },
     "metadata": {},
     "output_type": "display_data"
    },
    {
     "data": {
      "text/html": [
       "<pre>Finished parsing file /Users/rajeevkumar/Downloads/Airline/2007.csv</pre>"
      ],
      "text/plain": [
       "Finished parsing file /Users/rajeevkumar/Downloads/Airline/2007.csv"
      ]
     },
     "metadata": {},
     "output_type": "display_data"
    },
    {
     "data": {
      "text/html": [
       "<pre>Parsing completed. Parsed 7453215 lines in 21.1144 secs.</pre>"
      ],
      "text/plain": [
       "Parsing completed. Parsed 7453215 lines in 21.1144 secs."
      ]
     },
     "metadata": {},
     "output_type": "display_data"
    },
    {
     "name": "stdout",
     "output_type": "stream",
     "text": [
      "read 116525241 lines, reading next file 2008.csv\n"
     ]
    },
    {
     "data": {
      "text/html": [
       "<pre>Read 535634 lines. Lines per second: 181904</pre>"
      ],
      "text/plain": [
       "Read 535634 lines. Lines per second: 181904"
      ]
     },
     "metadata": {},
     "output_type": "display_data"
    },
    {
     "data": {
      "text/html": [
       "<pre>Read 2141844 lines. Lines per second: 251255</pre>"
      ],
      "text/plain": [
       "Read 2141844 lines. Lines per second: 251255"
      ]
     },
     "metadata": {},
     "output_type": "display_data"
    },
    {
     "data": {
      "text/html": [
       "<pre>Read 4280334 lines. Lines per second: 301350</pre>"
      ],
      "text/plain": [
       "Read 4280334 lines. Lines per second: 301350"
      ]
     },
     "metadata": {},
     "output_type": "display_data"
    },
    {
     "data": {
      "text/html": [
       "<pre>Read 5874437 lines. Lines per second: 304824</pre>"
      ],
      "text/plain": [
       "Read 5874437 lines. Lines per second: 304824"
      ]
     },
     "metadata": {},
     "output_type": "display_data"
    },
    {
     "data": {
      "text/html": [
       "<pre>Read 6931041 lines. Lines per second: 265205</pre>"
      ],
      "text/plain": [
       "Read 6931041 lines. Lines per second: 265205"
      ]
     },
     "metadata": {},
     "output_type": "display_data"
    },
    {
     "data": {
      "text/html": [
       "<pre>Finished parsing file /Users/rajeevkumar/Downloads/Airline/2008.csv</pre>"
      ],
      "text/plain": [
       "Finished parsing file /Users/rajeevkumar/Downloads/Airline/2008.csv"
      ]
     },
     "metadata": {},
     "output_type": "display_data"
    },
    {
     "data": {
      "text/html": [
       "<pre>Parsing completed. Parsed 7009728 lines in 26.4231 secs.</pre>"
      ],
      "text/plain": [
       "Parsing completed. Parsed 7009728 lines in 26.4231 secs."
      ]
     },
     "metadata": {},
     "output_type": "display_data"
    },
    {
     "name": "stdout",
     "output_type": "stream",
     "text": [
      "It took 362.18 seconds to concatenate the memory mapped file\n",
      "Saving... took 102.76 seconds Shape of SFrame is (123534969, 29)\n"
     ]
    }
   ],
   "source": [
    "# del sf # get rid of the old thing\n",
    "\n",
    "# We will need to make sure that the SFrame has consistent datatypes\n",
    "column_hints=[int,int,int,int,int,int,int,int,str,int,str,int,int,int,int,int,str,str,int,int,int,int,str,int,int,int,int,int,int]\n",
    "\n",
    "# Capture Initial Time\n",
    "t = time.time()\n",
    "\n",
    "# now load the first SFrame\n",
    "sf = gl.SFrame() #.read_csv('Data/1987.csv',column_type_hints=column_hints)\n",
    "\n",
    "# and then append each SFrame in a for loop\n",
    "for year in range(1987,2009):\n",
    "    print 'read %d lines, reading next file %d.csv'%(sf.shape[0],year)\n",
    "    sys.stdout.flush()\n",
    "    sftmp = gl.SFrame.read_csv('%d.csv'%(year),column_type_hints=column_hints)\n",
    "    sf = sf.append(sftmp)\n",
    "\n",
    "print 'It took %.2f seconds to concatenate the memory mapped file'%(time.time()-t)\n",
    "\n",
    "t = time.time()\n",
    "print 'Saving...',\n",
    "sf.save('/Users/rajeevkumar/Downloads/Airline/airline_data_sframe_directory') # save a compressed version of this SFrame\n",
    "print 'took %.2f seconds'%(time.time()-t),'Shape of SFrame is',sf.shape"
   ]
  },
  {
   "cell_type": "markdown",
   "metadata": {},
   "source": [
    "We have concatenated and loaded all the csv files in ~362 seconds and saved a compressed binary version to local machine in about 1.5 minute. "
   ]
  },
  {
   "cell_type": "code",
   "execution_count": 7,
   "metadata": {},
   "outputs": [
    {
     "name": "stdout",
     "output_type": "stream",
     "text": [
      "This non-commercial license of GraphLab Create for academic use is assigned to rajeevk@smu.edu and will expire on April 12, 2018.\n"
     ]
    },
    {
     "name": "stderr",
     "output_type": "stream",
     "text": [
      "[INFO] graphlab.cython.cy_server: GraphLab Create v2.1 started. Logging: /tmp/graphlab_server_1512766129.log\n"
     ]
    }
   ],
   "source": [
    "# CONVENIENCE BLOCK FOR THOSE LOADING FROM DISK HERE\n",
    "\n",
    "import graphlab as gl\n",
    "\n",
    "sf = gl.load_sframe('/Users/rajeevkumar/Downloads/Airline/airline_data_sframe_directory')"
   ]
  },
  {
   "cell_type": "markdown",
   "metadata": {},
   "source": [
    "#### Analyzing Popular Airports to fly from in Python\n",
    "We now need to perform some operations using the split-apply-combine technique. However, in graphlab this all happens via one syntax (the `groupby` function)."
   ]
  },
  {
   "cell_type": "code",
   "execution_count": 21,
   "metadata": {},
   "outputs": [
    {
     "name": "stdout",
     "output_type": "stream",
     "text": [
      "CPU times: user 59.8 s, sys: 1.62 s, total: 1min 1s\n",
      "Wall time: 22.2 s\n"
     ]
    },
    {
     "data": {
      "text/html": [
       "<div style=\"max-height:1000px;max-width:1500px;overflow:auto;\"><table frame=\"box\" rules=\"cols\">\n",
       "    <tr>\n",
       "        <th style=\"padding-left: 1em; padding-right: 1em; text-align: center\">Origin</th>\n",
       "        <th style=\"padding-left: 1em; padding-right: 1em; text-align: center\">num_flights</th>\n",
       "    </tr>\n",
       "    <tr>\n",
       "        <td style=\"padding-left: 1em; padding-right: 1em; text-align: center; vertical-align: top\">TYR</td>\n",
       "        <td style=\"padding-left: 1em; padding-right: 1em; text-align: center; vertical-align: top\">20739</td>\n",
       "    </tr>\n",
       "    <tr>\n",
       "        <td style=\"padding-left: 1em; padding-right: 1em; text-align: center; vertical-align: top\">TOL</td>\n",
       "        <td style=\"padding-left: 1em; padding-right: 1em; text-align: center; vertical-align: top\">58747</td>\n",
       "    </tr>\n",
       "    <tr>\n",
       "        <td style=\"padding-left: 1em; padding-right: 1em; text-align: center; vertical-align: top\">ABY</td>\n",
       "        <td style=\"padding-left: 1em; padding-right: 1em; text-align: center; vertical-align: top\">8035</td>\n",
       "    </tr>\n",
       "    <tr>\n",
       "        <td style=\"padding-left: 1em; padding-right: 1em; text-align: center; vertical-align: top\">SHV</td>\n",
       "        <td style=\"padding-left: 1em; padding-right: 1em; text-align: center; vertical-align: top\">129284</td>\n",
       "    </tr>\n",
       "    <tr>\n",
       "        <td style=\"padding-left: 1em; padding-right: 1em; text-align: center; vertical-align: top\">HSV</td>\n",
       "        <td style=\"padding-left: 1em; padding-right: 1em; text-align: center; vertical-align: top\">158743</td>\n",
       "    </tr>\n",
       "    <tr>\n",
       "        <td style=\"padding-left: 1em; padding-right: 1em; text-align: center; vertical-align: top\">FAT</td>\n",
       "        <td style=\"padding-left: 1em; padding-right: 1em; text-align: center; vertical-align: top\">136998</td>\n",
       "    </tr>\n",
       "    <tr>\n",
       "        <td style=\"padding-left: 1em; padding-right: 1em; text-align: center; vertical-align: top\">ATL</td>\n",
       "        <td style=\"padding-left: 1em; padding-right: 1em; text-align: center; vertical-align: top\">6100953</td>\n",
       "    </tr>\n",
       "    <tr>\n",
       "        <td style=\"padding-left: 1em; padding-right: 1em; text-align: center; vertical-align: top\">TEX</td>\n",
       "        <td style=\"padding-left: 1em; padding-right: 1em; text-align: center; vertical-align: top\">683</td>\n",
       "    </tr>\n",
       "    <tr>\n",
       "        <td style=\"padding-left: 1em; padding-right: 1em; text-align: center; vertical-align: top\">CWA</td>\n",
       "        <td style=\"padding-left: 1em; padding-right: 1em; text-align: center; vertical-align: top\">7881</td>\n",
       "    </tr>\n",
       "    <tr>\n",
       "        <td style=\"padding-left: 1em; padding-right: 1em; text-align: center; vertical-align: top\">EAU</td>\n",
       "        <td style=\"padding-left: 1em; padding-right: 1em; text-align: center; vertical-align: top\">2167</td>\n",
       "    </tr>\n",
       "</table>\n",
       "[347 rows x 2 columns]<br/>Note: Only the head of the SFrame is printed.<br/>You can use print_rows(num_rows=m, num_columns=n) to print more rows and columns.\n",
       "</div>"
      ],
      "text/plain": [
       "Columns:\n",
       "\tOrigin\tstr\n",
       "\tnum_flights\tint\n",
       "\n",
       "Rows: 347\n",
       "\n",
       "Data:\n",
       "+--------+-------------+\n",
       "| Origin | num_flights |\n",
       "+--------+-------------+\n",
       "|  TYR   |    20739    |\n",
       "|  TOL   |    58747    |\n",
       "|  ABY   |     8035    |\n",
       "|  SHV   |    129284   |\n",
       "|  HSV   |    158743   |\n",
       "|  FAT   |    136998   |\n",
       "|  ATL   |   6100953   |\n",
       "|  TEX   |     683     |\n",
       "|  CWA   |     7881    |\n",
       "|  EAU   |     2167    |\n",
       "+--------+-------------+\n",
       "[347 rows x 2 columns]\n",
       "Note: Only the head of the SFrame is printed.\n",
       "You can use print_rows(num_rows=m, num_columns=n) to print more rows and columns."
      ]
     },
     "execution_count": 21,
     "metadata": {},
     "output_type": "execute_result"
    }
   ],
   "source": [
    "# to perform grouping and splitting\n",
    "# we need to specify (1) which column(s) to group the SFrame using, and \n",
    "#                    (2) what function we want to perform on the group\n",
    "# in graphlab, we only have a few options for performing on each of the groups. \n",
    "# Here, lets keep it simple--let's group by the airport origin and then\n",
    "#  use the builtin 'count' function to aggregate the results\n",
    "# The result is another SFrame with the Unique origin names as a column and the\n",
    "#  number of entries in each group in another column\n",
    "\n",
    "%time sf_counts = sf.groupby('Origin', {'num_flights':gl.aggregate.COUNT()})\n",
    "sf_counts"
   ]
  },
  {
   "cell_type": "code",
   "execution_count": 22,
   "metadata": {},
   "outputs": [
    {
     "data": {
      "image/png": "[encoded data removed]",
      "text/plain": [
       "<matplotlib.figure.Figure at 0x119dca490>"
      ]
     },
     "metadata": {},
     "output_type": "display_data"
    }
   ],
   "source": [
    "from matplotlib import pyplot as plt\n",
    "import numpy as np\n",
    "\n",
    "%matplotlib inline\n",
    "plt.style.use('ggplot')\n",
    "\n",
    "# As seen above, the sf_counts SFrame has the origin of the flight on the left\n",
    "# and the count of flights on the right \n",
    "\n",
    "# let's grab the top 10 entries\n",
    "sf_top = sf_counts.topk('num_flights',10) # this is builtin command in graphlab\n",
    "\n",
    "airports = np.array(sf_top['Origin'])\n",
    "counts = np.array(sf_top['num_flights'])\n",
    "\n",
    "fig = plt.figure(figsize=(8,4))\n",
    "plt.barh(range(len(counts)),counts)\n",
    "\n",
    "# and set them on the plot\n",
    "plt.yticks(range(len(airports)), airports)\n",
    "\n",
    "plt.show()"
   ]
  },
  {
   "cell_type": "markdown",
   "metadata": {},
   "source": [
    "The Ohare airport seems to be the busiest airport in the country. And, it is followed by Atlanta and Dallas Fortworth Airports."
   ]
  },
  {
   "cell_type": "markdown",
   "metadata": {},
   "source": [
    "#### Q1: Which airports are most likely to be delayed flying out of or into?"
   ]
  },
  {
   "cell_type": "code",
   "execution_count": 12,
   "metadata": {},
   "outputs": [
    {
     "name": "stdout",
     "output_type": "stream",
     "text": [
      "CPU times: user 58.4 s, sys: 2.14 s, total: 1min\n",
      "Wall time: 20.7 s\n"
     ]
    },
    {
     "data": {
      "text/html": [
       "<div style=\"max-height:1000px;max-width:1500px;overflow:auto;\"><table frame=\"box\" rules=\"cols\">\n",
       "    <tr>\n",
       "        <th style=\"padding-left: 1em; padding-right: 1em; text-align: center\">Origin</th>\n",
       "        <th style=\"padding-left: 1em; padding-right: 1em; text-align: center\">DepDelay</th>\n",
       "    </tr>\n",
       "    <tr>\n",
       "        <td style=\"padding-left: 1em; padding-right: 1em; text-align: center; vertical-align: top\">FMN</td>\n",
       "        <td style=\"padding-left: 1em; padding-right: 1em; text-align: center; vertical-align: top\">203.666666667</td>\n",
       "    </tr>\n",
       "    <tr>\n",
       "        <td style=\"padding-left: 1em; padding-right: 1em; text-align: center; vertical-align: top\">CYS</td>\n",
       "        <td style=\"padding-left: 1em; padding-right: 1em; text-align: center; vertical-align: top\">145.0</td>\n",
       "    </tr>\n",
       "    <tr>\n",
       "        <td style=\"padding-left: 1em; padding-right: 1em; text-align: center; vertical-align: top\">OGD</td>\n",
       "        <td style=\"padding-left: 1em; padding-right: 1em; text-align: center; vertical-align: top\">143.666666667</td>\n",
       "    </tr>\n",
       "    <tr>\n",
       "        <td style=\"padding-left: 1em; padding-right: 1em; text-align: center; vertical-align: top\">BFF</td>\n",
       "        <td style=\"padding-left: 1em; padding-right: 1em; text-align: center; vertical-align: top\">131.0</td>\n",
       "    </tr>\n",
       "    <tr>\n",
       "        <td style=\"padding-left: 1em; padding-right: 1em; text-align: center; vertical-align: top\">PIR</td>\n",
       "        <td style=\"padding-left: 1em; padding-right: 1em; text-align: center; vertical-align: top\">38.1</td>\n",
       "    </tr>\n",
       "    <tr>\n",
       "        <td style=\"padding-left: 1em; padding-right: 1em; text-align: center; vertical-align: top\">BFI</td>\n",
       "        <td style=\"padding-left: 1em; padding-right: 1em; text-align: center; vertical-align: top\">28.0</td>\n",
       "    </tr>\n",
       "    <tr>\n",
       "        <td style=\"padding-left: 1em; padding-right: 1em; text-align: center; vertical-align: top\">ACK</td>\n",
       "        <td style=\"padding-left: 1em; padding-right: 1em; text-align: center; vertical-align: top\">27.3832116788</td>\n",
       "    </tr>\n",
       "    <tr>\n",
       "        <td style=\"padding-left: 1em; padding-right: 1em; text-align: center; vertical-align: top\">CKB</td>\n",
       "        <td style=\"padding-left: 1em; padding-right: 1em; text-align: center; vertical-align: top\">25.625</td>\n",
       "    </tr>\n",
       "    <tr>\n",
       "        <td style=\"padding-left: 1em; padding-right: 1em; text-align: center; vertical-align: top\">SOP</td>\n",
       "        <td style=\"padding-left: 1em; padding-right: 1em; text-align: center; vertical-align: top\">25.2410423453</td>\n",
       "    </tr>\n",
       "    <tr>\n",
       "        <td style=\"padding-left: 1em; padding-right: 1em; text-align: center; vertical-align: top\">ADK</td>\n",
       "        <td style=\"padding-left: 1em; padding-right: 1em; text-align: center; vertical-align: top\">22.7319778189</td>\n",
       "    </tr>\n",
       "</table>\n",
       "[10 rows x 2 columns]<br/>\n",
       "</div>"
      ],
      "text/plain": [
       "Columns:\n",
       "\tOrigin\tstr\n",
       "\tDepDelay\tfloat\n",
       "\n",
       "Rows: 10\n",
       "\n",
       "Data:\n",
       "+--------+---------------+\n",
       "| Origin |    DepDelay   |\n",
       "+--------+---------------+\n",
       "|  FMN   | 203.666666667 |\n",
       "|  CYS   |     145.0     |\n",
       "|  OGD   | 143.666666667 |\n",
       "|  BFF   |     131.0     |\n",
       "|  PIR   |      38.1     |\n",
       "|  BFI   |      28.0     |\n",
       "|  ACK   | 27.3832116788 |\n",
       "|  CKB   |     25.625    |\n",
       "|  SOP   | 25.2410423453 |\n",
       "|  ADK   | 22.7319778189 |\n",
       "+--------+---------------+\n",
       "[10 rows x 2 columns]"
      ]
     },
     "execution_count": 12,
     "metadata": {},
     "output_type": "execute_result"
    }
   ],
   "source": [
    "# Most Delayed Airport (Flying Out)\n",
    "%time sf_depdelay = sf.groupby('Origin', {'DepDelay':gl.aggregate.MEAN('DepDelay')})\n",
    "sf_depdelay.topk('DepDelay',10)"
   ]
  },
  {
   "cell_type": "markdown",
   "metadata": {},
   "source": [
    "Farmington has the highest departure delay of average 203.6 minutes, followed by Cheyenne Airport of 145 minutes delay and followed by Ogden-Hinckley Airport of 143.6 minutes delay."
   ]
  },
  {
   "cell_type": "code",
   "execution_count": 14,
   "metadata": {},
   "outputs": [
    {
     "name": "stdout",
     "output_type": "stream",
     "text": [
      "CPU times: user 59 s, sys: 2.35 s, total: 1min 1s\n",
      "Wall time: 22.4 s\n"
     ]
    },
    {
     "data": {
      "text/html": [
       "<div style=\"max-height:1000px;max-width:1500px;overflow:auto;\"><table frame=\"box\" rules=\"cols\">\n",
       "    <tr>\n",
       "        <th style=\"padding-left: 1em; padding-right: 1em; text-align: center\">Dest</th>\n",
       "        <th style=\"padding-left: 1em; padding-right: 1em; text-align: center\">DepDelay</th>\n",
       "    </tr>\n",
       "    <tr>\n",
       "        <td style=\"padding-left: 1em; padding-right: 1em; text-align: center; vertical-align: top\">MQT</td>\n",
       "        <td style=\"padding-left: 1em; padding-right: 1em; text-align: center; vertical-align: top\">25.9326453015</td>\n",
       "    </tr>\n",
       "    <tr>\n",
       "        <td style=\"padding-left: 1em; padding-right: 1em; text-align: center; vertical-align: top\">CYS</td>\n",
       "        <td style=\"padding-left: 1em; padding-right: 1em; text-align: center; vertical-align: top\">23.5833333333</td>\n",
       "    </tr>\n",
       "    <tr>\n",
       "        <td style=\"padding-left: 1em; padding-right: 1em; text-align: center; vertical-align: top\">MKC</td>\n",
       "        <td style=\"padding-left: 1em; padding-right: 1em; text-align: center; vertical-align: top\">23.0</td>\n",
       "    </tr>\n",
       "    <tr>\n",
       "        <td style=\"padding-left: 1em; padding-right: 1em; text-align: center; vertical-align: top\">SOP</td>\n",
       "        <td style=\"padding-left: 1em; padding-right: 1em; text-align: center; vertical-align: top\">22.5980707395</td>\n",
       "    </tr>\n",
       "    <tr>\n",
       "        <td style=\"padding-left: 1em; padding-right: 1em; text-align: center; vertical-align: top\">HHH</td>\n",
       "        <td style=\"padding-left: 1em; padding-right: 1em; text-align: center; vertical-align: top\">22.5209039548</td>\n",
       "    </tr>\n",
       "    <tr>\n",
       "        <td style=\"padding-left: 1em; padding-right: 1em; text-align: center; vertical-align: top\">OTH</td>\n",
       "        <td style=\"padding-left: 1em; padding-right: 1em; text-align: center; vertical-align: top\">21.5861386139</td>\n",
       "    </tr>\n",
       "    <tr>\n",
       "        <td style=\"padding-left: 1em; padding-right: 1em; text-align: center; vertical-align: top\">ILG</td>\n",
       "        <td style=\"padding-left: 1em; padding-right: 1em; text-align: center; vertical-align: top\">21.2211055276</td>\n",
       "    </tr>\n",
       "    <tr>\n",
       "        <td style=\"padding-left: 1em; padding-right: 1em; text-align: center; vertical-align: top\">FMN</td>\n",
       "        <td style=\"padding-left: 1em; padding-right: 1em; text-align: center; vertical-align: top\">19.2</td>\n",
       "    </tr>\n",
       "    <tr>\n",
       "        <td style=\"padding-left: 1em; padding-right: 1em; text-align: center; vertical-align: top\">PIR</td>\n",
       "        <td style=\"padding-left: 1em; padding-right: 1em; text-align: center; vertical-align: top\">18.8888888889</td>\n",
       "    </tr>\n",
       "    <tr>\n",
       "        <td style=\"padding-left: 1em; padding-right: 1em; text-align: center; vertical-align: top\">MCN</td>\n",
       "        <td style=\"padding-left: 1em; padding-right: 1em; text-align: center; vertical-align: top\">18.6680899516</td>\n",
       "    </tr>\n",
       "</table>\n",
       "[10 rows x 2 columns]<br/>\n",
       "</div>"
      ],
      "text/plain": [
       "Columns:\n",
       "\tDest\tstr\n",
       "\tDepDelay\tfloat\n",
       "\n",
       "Rows: 10\n",
       "\n",
       "Data:\n",
       "+------+---------------+\n",
       "| Dest |    DepDelay   |\n",
       "+------+---------------+\n",
       "| MQT  | 25.9326453015 |\n",
       "| CYS  | 23.5833333333 |\n",
       "| MKC  |      23.0     |\n",
       "| SOP  | 22.5980707395 |\n",
       "| HHH  | 22.5209039548 |\n",
       "| OTH  | 21.5861386139 |\n",
       "| ILG  | 21.2211055276 |\n",
       "| FMN  |      19.2     |\n",
       "| PIR  | 18.8888888889 |\n",
       "| MCN  | 18.6680899516 |\n",
       "+------+---------------+\n",
       "[10 rows x 2 columns]"
      ]
     },
     "execution_count": 14,
     "metadata": {},
     "output_type": "execute_result"
    }
   ],
   "source": [
    "# Most Delayed Airport (Flying Into)\n",
    "%time sf_arrdelay = sf.groupby('Dest', {'DepDelay':gl.aggregate.MEAN('DepDelay')})\n",
    "sf_arrdelay.topk('DepDelay',10)"
   ]
  },
  {
   "cell_type": "markdown",
   "metadata": {},
   "source": [
    "Sawyer International Airport (MQT) has the highest delay of 25.9 minutes for airports Flying Into."
   ]
  },
  {
   "cell_type": "markdown",
   "metadata": {},
   "source": [
    "#### Q2 : Which flights with same origin and destination are most likely to be delayed?"
   ]
  },
  {
   "cell_type": "code",
   "execution_count": 16,
   "metadata": {},
   "outputs": [
    {
     "name": "stdout",
     "output_type": "stream",
     "text": [
      "CPU times: user 1min 34s, sys: 3.61 s, total: 1min 38s\n",
      "Wall time: 33.1 s\n"
     ]
    },
    {
     "data": {
      "text/html": [
       "<div style=\"max-height:1000px;max-width:1500px;overflow:auto;\"><table frame=\"box\" rules=\"cols\">\n",
       "    <tr>\n",
       "        <th style=\"padding-left: 1em; padding-right: 1em; text-align: center\">Dest</th>\n",
       "        <th style=\"padding-left: 1em; padding-right: 1em; text-align: center\">Origin</th>\n",
       "        <th style=\"padding-left: 1em; padding-right: 1em; text-align: center\">DepDelay</th>\n",
       "    </tr>\n",
       "    <tr>\n",
       "        <td style=\"padding-left: 1em; padding-right: 1em; text-align: center; vertical-align: top\">DFW</td>\n",
       "        <td style=\"padding-left: 1em; padding-right: 1em; text-align: center; vertical-align: top\">SBN</td>\n",
       "        <td style=\"padding-left: 1em; padding-right: 1em; text-align: center; vertical-align: top\">1310.0</td>\n",
       "    </tr>\n",
       "    <tr>\n",
       "        <td style=\"padding-left: 1em; padding-right: 1em; text-align: center; vertical-align: top\">HDN</td>\n",
       "        <td style=\"padding-left: 1em; padding-right: 1em; text-align: center; vertical-align: top\">GUC</td>\n",
       "        <td style=\"padding-left: 1em; padding-right: 1em; text-align: center; vertical-align: top\">982.0</td>\n",
       "    </tr>\n",
       "    <tr>\n",
       "        <td style=\"padding-left: 1em; padding-right: 1em; text-align: center; vertical-align: top\">SPI</td>\n",
       "        <td style=\"padding-left: 1em; padding-right: 1em; text-align: center; vertical-align: top\">CMI</td>\n",
       "        <td style=\"padding-left: 1em; padding-right: 1em; text-align: center; vertical-align: top\">587.0</td>\n",
       "    </tr>\n",
       "    <tr>\n",
       "        <td style=\"padding-left: 1em; padding-right: 1em; text-align: center; vertical-align: top\">SGF</td>\n",
       "        <td style=\"padding-left: 1em; padding-right: 1em; text-align: center; vertical-align: top\">MCI</td>\n",
       "        <td style=\"padding-left: 1em; padding-right: 1em; text-align: center; vertical-align: top\">355.0</td>\n",
       "    </tr>\n",
       "    <tr>\n",
       "        <td style=\"padding-left: 1em; padding-right: 1em; text-align: center; vertical-align: top\">SPI</td>\n",
       "        <td style=\"padding-left: 1em; padding-right: 1em; text-align: center; vertical-align: top\">SDF</td>\n",
       "        <td style=\"padding-left: 1em; padding-right: 1em; text-align: center; vertical-align: top\">329.0</td>\n",
       "    </tr>\n",
       "    <tr>\n",
       "        <td style=\"padding-left: 1em; padding-right: 1em; text-align: center; vertical-align: top\">MFE</td>\n",
       "        <td style=\"padding-left: 1em; padding-right: 1em; text-align: center; vertical-align: top\">ELP</td>\n",
       "        <td style=\"padding-left: 1em; padding-right: 1em; text-align: center; vertical-align: top\">307.0</td>\n",
       "    </tr>\n",
       "    <tr>\n",
       "        <td style=\"padding-left: 1em; padding-right: 1em; text-align: center; vertical-align: top\">DEN</td>\n",
       "        <td style=\"padding-left: 1em; padding-right: 1em; text-align: center; vertical-align: top\">SYR</td>\n",
       "        <td style=\"padding-left: 1em; padding-right: 1em; text-align: center; vertical-align: top\">303.0</td>\n",
       "    </tr>\n",
       "    <tr>\n",
       "        <td style=\"padding-left: 1em; padding-right: 1em; text-align: center; vertical-align: top\">PIA</td>\n",
       "        <td style=\"padding-left: 1em; padding-right: 1em; text-align: center; vertical-align: top\">HPN</td>\n",
       "        <td style=\"padding-left: 1em; padding-right: 1em; text-align: center; vertical-align: top\">298.0</td>\n",
       "    </tr>\n",
       "    <tr>\n",
       "        <td style=\"padding-left: 1em; padding-right: 1em; text-align: center; vertical-align: top\">JFK</td>\n",
       "        <td style=\"padding-left: 1em; padding-right: 1em; text-align: center; vertical-align: top\">MDW</td>\n",
       "        <td style=\"padding-left: 1em; padding-right: 1em; text-align: center; vertical-align: top\">285.0</td>\n",
       "    </tr>\n",
       "    <tr>\n",
       "        <td style=\"padding-left: 1em; padding-right: 1em; text-align: center; vertical-align: top\">SBA</td>\n",
       "        <td style=\"padding-left: 1em; padding-right: 1em; text-align: center; vertical-align: top\">GJT</td>\n",
       "        <td style=\"padding-left: 1em; padding-right: 1em; text-align: center; vertical-align: top\">280.0</td>\n",
       "    </tr>\n",
       "</table>\n",
       "[10 rows x 3 columns]<br/>\n",
       "</div>"
      ],
      "text/plain": [
       "Columns:\n",
       "\tDest\tstr\n",
       "\tOrigin\tstr\n",
       "\tDepDelay\tfloat\n",
       "\n",
       "Rows: 10\n",
       "\n",
       "Data:\n",
       "+------+--------+----------+\n",
       "| Dest | Origin | DepDelay |\n",
       "+------+--------+----------+\n",
       "| DFW  |  SBN   |  1310.0  |\n",
       "| HDN  |  GUC   |  982.0   |\n",
       "| SPI  |  CMI   |  587.0   |\n",
       "| SGF  |  MCI   |  355.0   |\n",
       "| SPI  |  SDF   |  329.0   |\n",
       "| MFE  |  ELP   |  307.0   |\n",
       "| DEN  |  SYR   |  303.0   |\n",
       "| PIA  |  HPN   |  298.0   |\n",
       "| JFK  |  MDW   |  285.0   |\n",
       "| SBA  |  GJT   |  280.0   |\n",
       "+------+--------+----------+\n",
       "[10 rows x 3 columns]"
      ]
     },
     "execution_count": 16,
     "metadata": {},
     "output_type": "execute_result"
    }
   ],
   "source": [
    "# Most Delayed Flights with same origin and destination\n",
    "%time sf_depdelay_sameDestOrg = sf.groupby(['Dest','Origin'], {'DepDelay':gl.aggregate.MEAN('DepDelay')})\n",
    "sf_depdelay_sameDestOrg.topk('DepDelay',10)"
   ]
  },
  {
   "cell_type": "markdown",
   "metadata": {},
   "source": [
    "For flights with same origin and destination, Dallas Fort Worth and South Bend International Airport have the highest delay of 1310 minutes in the country."
   ]
  },
  {
   "cell_type": "markdown",
   "metadata": {},
   "source": [
    "### 5.4 Analyzing Depature Delays at Specific Times of the Day in Python\n",
    "Now, let's try to find the percentiles for late flights based upon the hour of the day that they depart. To do this\n",
    "we will:\n",
    "- Create a new column for the hour of the day that a plane departed.\n",
    "- Fix the `hours==24` and `hours==0` to be consistent\n",
    "- Group by the hours of departure \n",
    "- Take percentiles of each group to see which ones are the latest"
   ]
  },
  {
   "cell_type": "code",
   "execution_count": 30,
   "metadata": {},
   "outputs": [
    {
     "data": {
      "text/plain": [
       "dtype: int\n",
       "Rows: 123534969\n",
       "[7, 7, 7, 7, 7, 7, 7, 7, 7, 7, 7, 7, 7, 7, 9, 9, 9, 9, 9, 9, 9, 9, 9, 9, 9, 9, 9, 9, 9, 9, 9, 9, 9, 9, 9, 9, 9, 9, 9, 9, 9, 9, 9, 15, 15, 15, 15, 15, 15, 15, 15, 15, 15, 15, 15, 15, 15, 15, 15, 15, 15, 15, 15, 15, 15, 15, 15, 15, 16, 16, 16, 16, 16, 16, 16, 16, 16, 16, 16, 16, 16, 16, 16, 16, 16, 16, 16, 16, 16, 16, 16, 16, 16, 16, 7, 8, 8, 8, 8, 8, ... ]"
      ]
     },
     "execution_count": 30,
     "metadata": {},
     "output_type": "execute_result"
    }
   ],
   "source": [
    "from math import floor\n",
    "# first, let's create a new column in this SFrame that has the departure time floored to the nearest hour\n",
    "sf['DepTimeByHour'] = sf['CRSDepTime'].apply(lambda x: floor(x/100),dtype=int)\n",
    "sf['DepTimeByHour'] # and print a few of them (note: the column has not been evaluated yet)"
   ]
  },
  {
   "cell_type": "code",
   "execution_count": 31,
   "metadata": {
    "collapsed": true
   },
   "outputs": [],
   "source": [
    "# Let's now change the hours of the day that are equal to 24\n",
    "\n",
    "sf['DepTimeByHour'] = sf['DepTimeByHour'].apply(lambda x: 0 if x==24 else x)\n"
   ]
  },
  {
   "cell_type": "code",
   "execution_count": 25,
   "metadata": {},
   "outputs": [
    {
     "name": "stdout",
     "output_type": "stream",
     "text": [
      "Took 114.01 seconds to run\n"
     ]
    }
   ],
   "source": [
    "# now lets group the SFrame by the hours and calculate the percentiles of each group\n",
    "\n",
    "import time\n",
    "t = time.time()\n",
    "delay_sf = sf.groupby('DepTimeByHour', \n",
    "                            {'delay_quantiles':gl.aggregate.QUANTILE('DepDelay', [0.90,0.99,0.999,0.9999]),\n",
    "                             'delay_max':gl.aggregate.MAX('DepDelay')})\n",
    "# this returns a new SFrame with the specified columns from each aggregation\n",
    "\n",
    "print 'Took %.2f seconds to run'%(time.time()-t)"
   ]
  },
  {
   "cell_type": "code",
   "execution_count": 26,
   "metadata": {},
   "outputs": [
    {
     "data": {
      "text/html": [
       "<div style=\"max-height:1000px;max-width:1500px;overflow:auto;\"><table frame=\"box\" rules=\"cols\">\n",
       "    <tr>\n",
       "        <th style=\"padding-left: 1em; padding-right: 1em; text-align: center\">DepTimeByHour</th>\n",
       "        <th style=\"padding-left: 1em; padding-right: 1em; text-align: center\">delay_max</th>\n",
       "        <th style=\"padding-left: 1em; padding-right: 1em; text-align: center\">delay_quantiles</th>\n",
       "    </tr>\n",
       "    <tr>\n",
       "        <td style=\"padding-left: 1em; padding-right: 1em; text-align: center; vertical-align: top\">0</td>\n",
       "        <td style=\"padding-left: 1em; padding-right: 1em; text-align: center; vertical-align: top\">1435</td>\n",
       "        <td style=\"padding-left: 1em; padding-right: 1em; text-align: center; vertical-align: top\">[30.0, 133.0, 1435.0,<br>1435.0] ...</td>\n",
       "    </tr>\n",
       "    <tr>\n",
       "        <td style=\"padding-left: 1em; padding-right: 1em; text-align: center; vertical-align: top\">1</td>\n",
       "        <td style=\"padding-left: 1em; padding-right: 1em; text-align: center; vertical-align: top\">1419</td>\n",
       "        <td style=\"padding-left: 1em; padding-right: 1em; text-align: center; vertical-align: top\">[19.0, 97.0, 201.0,<br>1419.0] ...</td>\n",
       "    </tr>\n",
       "    <tr>\n",
       "        <td style=\"padding-left: 1em; padding-right: 1em; text-align: center; vertical-align: top\">2</td>\n",
       "        <td style=\"padding-left: 1em; padding-right: 1em; text-align: center; vertical-align: top\">1265</td>\n",
       "        <td style=\"padding-left: 1em; padding-right: 1em; text-align: center; vertical-align: top\">[10.0, 81.0, 1265.0,<br>1265.0] ...</td>\n",
       "    </tr>\n",
       "    <tr>\n",
       "        <td style=\"padding-left: 1em; padding-right: 1em; text-align: center; vertical-align: top\">3</td>\n",
       "        <td style=\"padding-left: 1em; padding-right: 1em; text-align: center; vertical-align: top\">976</td>\n",
       "        <td style=\"padding-left: 1em; padding-right: 1em; text-align: center; vertical-align: top\">[7.0, 96.0, 201.0, 976.0]</td>\n",
       "    </tr>\n",
       "    <tr>\n",
       "        <td style=\"padding-left: 1em; padding-right: 1em; text-align: center; vertical-align: top\">4</td>\n",
       "        <td style=\"padding-left: 1em; padding-right: 1em; text-align: center; vertical-align: top\">930</td>\n",
       "        <td style=\"padding-left: 1em; padding-right: 1em; text-align: center; vertical-align: top\">[9.0, 96.0, 930.0, 930.0]</td>\n",
       "    </tr>\n",
       "    <tr>\n",
       "        <td style=\"padding-left: 1em; padding-right: 1em; text-align: center; vertical-align: top\">5</td>\n",
       "        <td style=\"padding-left: 1em; padding-right: 1em; text-align: center; vertical-align: top\">1418</td>\n",
       "        <td style=\"padding-left: 1em; padding-right: 1em; text-align: center; vertical-align: top\">[5.0, 86.0, 1418.0,<br>1418.0] ...</td>\n",
       "    </tr>\n",
       "    <tr>\n",
       "        <td style=\"padding-left: 1em; padding-right: 1em; text-align: center; vertical-align: top\">6</td>\n",
       "        <td style=\"padding-left: 1em; padding-right: 1em; text-align: center; vertical-align: top\">1740</td>\n",
       "        <td style=\"padding-left: 1em; padding-right: 1em; text-align: center; vertical-align: top\">[6.0, 79.0, 1740.0,<br>1740.0] ...</td>\n",
       "    </tr>\n",
       "    <tr>\n",
       "        <td style=\"padding-left: 1em; padding-right: 1em; text-align: center; vertical-align: top\">7</td>\n",
       "        <td style=\"padding-left: 1em; padding-right: 1em; text-align: center; vertical-align: top\">1956</td>\n",
       "        <td style=\"padding-left: 1em; padding-right: 1em; text-align: center; vertical-align: top\">[9.0, 85.0, 1956.0,<br>1956.0] ...</td>\n",
       "    </tr>\n",
       "    <tr>\n",
       "        <td style=\"padding-left: 1em; padding-right: 1em; text-align: center; vertical-align: top\">8</td>\n",
       "        <td style=\"padding-left: 1em; padding-right: 1em; text-align: center; vertical-align: top\">2119</td>\n",
       "        <td style=\"padding-left: 1em; padding-right: 1em; text-align: center; vertical-align: top\">[14.0, 91.0, 2119.0,<br>2119.0] ...</td>\n",
       "    </tr>\n",
       "    <tr>\n",
       "        <td style=\"padding-left: 1em; padding-right: 1em; text-align: center; vertical-align: top\">9</td>\n",
       "        <td style=\"padding-left: 1em; padding-right: 1em; text-align: center; vertical-align: top\">1800</td>\n",
       "        <td style=\"padding-left: 1em; padding-right: 1em; text-align: center; vertical-align: top\">[17.0, 95.0, 1800.0,<br>1800.0] ...</td>\n",
       "    </tr>\n",
       "</table>\n",
       "[24 rows x 3 columns]<br/>Note: Only the head of the SFrame is printed.<br/>You can use print_rows(num_rows=m, num_columns=n) to print more rows and columns.\n",
       "</div>"
      ],
      "text/plain": [
       "Columns:\n",
       "\tDepTimeByHour\tint\n",
       "\tdelay_max\tint\n",
       "\tdelay_quantiles\tarray\n",
       "\n",
       "Rows: 24\n",
       "\n",
       "Data:\n",
       "+---------------+-----------+-------------------------------+\n",
       "| DepTimeByHour | delay_max |        delay_quantiles        |\n",
       "+---------------+-----------+-------------------------------+\n",
       "|       0       |    1435   | [30.0, 133.0, 1435.0, 1435.0] |\n",
       "|       1       |    1419   |  [19.0, 97.0, 201.0, 1419.0]  |\n",
       "|       2       |    1265   |  [10.0, 81.0, 1265.0, 1265.0] |\n",
       "|       3       |    976    |   [7.0, 96.0, 201.0, 976.0]   |\n",
       "|       4       |    930    |   [9.0, 96.0, 930.0, 930.0]   |\n",
       "|       5       |    1418   |  [5.0, 86.0, 1418.0, 1418.0]  |\n",
       "|       6       |    1740   |  [6.0, 79.0, 1740.0, 1740.0]  |\n",
       "|       7       |    1956   |  [9.0, 85.0, 1956.0, 1956.0]  |\n",
       "|       8       |    2119   |  [14.0, 91.0, 2119.0, 2119.0] |\n",
       "|       9       |    1800   |  [17.0, 95.0, 1800.0, 1800.0] |\n",
       "+---------------+-----------+-------------------------------+\n",
       "[24 rows x 3 columns]\n",
       "Note: Only the head of the SFrame is printed.\n",
       "You can use print_rows(num_rows=m, num_columns=n) to print more rows and columns."
      ]
     },
     "execution_count": 26,
     "metadata": {},
     "output_type": "execute_result"
    }
   ],
   "source": [
    "# sort it by when departed and display it\n",
    "delay_sf = delay_sf.sort('DepTimeByHour')\n",
    "delay_sf"
   ]
  },
  {
   "cell_type": "code",
   "execution_count": 27,
   "metadata": {},
   "outputs": [
    {
     "data": {
      "image/png": "[encoded data removed]",
      "text/plain": [
       "<matplotlib.figure.Figure at 0x11ac66f50>"
      ]
     },
     "metadata": {},
     "output_type": "display_data"
    }
   ],
   "source": [
    "# to use matplotlib, we need to convert over to numpy arrays\n",
    "# this is a fine operation because the new aggregated SFrame we are \n",
    "# working (delay_sf) with is quite small\n",
    "x = np.array(delay_sf['DepTimeByHour'])\n",
    "y = np.array(delay_sf['delay_quantiles'])\n",
    "\n",
    "plt.figure(figsize=(10,4))\n",
    "plt.subplot(1,2,1)\n",
    "plt.plot(x,y)\n",
    "plt.ylabel('Minutes Delayed')\n",
    "plt.xlabel('Hour of Day')\n",
    "\n",
    "\n",
    "plt.subplot(1,2,2)\n",
    "plt.plot(x,y)\n",
    "plt.xlabel('Hour of Day')\n",
    "plt.ylim(0,1400) \n",
    "plt.legend(['0.9','0.99','0.999','0.9999'])\n",
    "\n",
    "plt.show()"
   ]
  },
  {
   "cell_type": "markdown",
   "metadata": {},
   "source": [
    "The bottom two lines (percentiles 0.90 and 0.99) look very similar to what our book had, but the other two percentile values (0.999 and 0.9999) are different because Graphlab does the lazy evaluation, so it is very fast."
   ]
  },
  {
   "cell_type": "markdown",
   "metadata": {},
   "source": [
    "### 6 Linear Regression"
   ]
  },
  {
   "cell_type": "markdown",
   "metadata": {},
   "source": [
    "#### Data Preperation for Linear Regression"
   ]
  },
  {
   "cell_type": "code",
   "execution_count": 54,
   "metadata": {},
   "outputs": [],
   "source": [
    "# only use years where the tail number was recorded\n",
    "\n",
    "sf_tmp = sf[['TailNum','Year','Month','DepDelay','DepTimeByHour']][sf['Year']>1994]"
   ]
  },
  {
   "cell_type": "code",
   "execution_count": 55,
   "metadata": {},
   "outputs": [
    {
     "name": "stdout",
     "output_type": "stream",
     "text": [
      "Took 17.33 seconds to run\n"
     ]
    }
   ],
   "source": [
    "import time\n",
    "# lets try to make a function for getting the age of the plane\n",
    "# First lets just save the plane's age in years\n",
    "sf_tmp['FlightAge'] = 12*sf_tmp['Year']+sf_tmp['Month']-1\n",
    "\n",
    "# and take the minimum of that in order to get its first flight\n",
    "t = time.time()\n",
    "sf_min_ages = sf_tmp[['TailNum','FlightAge']].groupby('TailNum',{'FirstFlight':gl.aggregate.MIN('FlightAge')})\n",
    "print 'Took %.2f seconds to run'%(time.time()-t)"
   ]
  },
  {
   "cell_type": "code",
   "execution_count": 56,
   "metadata": {},
   "outputs": [
    {
     "name": "stdout",
     "output_type": "stream",
     "text": [
      "CPU times: user 8min 41s, sys: 14.1 s, total: 8min 55s\n",
      "Wall time: 2min 21s\n"
     ]
    }
   ],
   "source": [
    "# Now transform the FirstFlight Column into the original dataframe size\n",
    "# to do that we can just do a join on a few columns of our sf\n",
    "# this will save the flight age and the minimum in a new SFrame\n",
    "%time sf_fewcols = sf_tmp[['TailNum','FlightAge']].join(sf_min_ages,on='TailNum',how='left') # long operation"
   ]
  },
  {
   "cell_type": "code",
   "execution_count": 57,
   "metadata": {
    "collapsed": true
   },
   "outputs": [],
   "source": [
    "# and now we can simply subtract the new calculated quantity and add to the original SFrame\n",
    "sf_tmp['Age'] = sf_fewcols['FlightAge']-sf_fewcols['FirstFlight']"
   ]
  },
  {
   "cell_type": "markdown",
   "metadata": {},
   "source": [
    "#### Q3: Add new feature called departure time slots.\n",
    "This new features has values such as Early Morning, Morning, Noon, Afternoon, Evening etc. based on the Departure time by hour."
   ]
  },
  {
   "cell_type": "code",
   "execution_count": 73,
   "metadata": {},
   "outputs": [],
   "source": [
    "# Define New Column called DepTimeSlots \n",
    "sf_tmp['DepTimeSlots'] = sf_tmp['DepTimeByHour'].apply(lambda x: 'Early Morning' if (x>1 and x<6) \n",
    "                                               else ('Morning' if (x>6 and x<9) \n",
    "                                                     else('Mid-Morning' if (x>=9 and x<12)\n",
    "                                                         else('Noon' if (x>=12 and x<15)\n",
    "                                                             else('After-Noon' if (x>=15 and x<16)\n",
    "                                                                 else('Evening' if (x>=16 and x<21)\n",
    "                                                                     else('Night' if (x>=21 and x<24)\n",
    "                                                                         else('Mid-Night' if (x>=0 and x<=1)\n",
    "                                                                             else('-1')))))) )),dtype=str)"
   ]
  },
  {
   "cell_type": "code",
   "execution_count": 59,
   "metadata": {},
   "outputs": [
    {
     "name": "stdout",
     "output_type": "stream",
     "text": [
      "+---------------+--------------+\n",
      "| DepTimeByHour | DepTimeSlots |\n",
      "+---------------+--------------+\n",
      "|       7       |   Morning    |\n",
      "|       7       |   Morning    |\n",
      "|       7       |   Morning    |\n",
      "|       7       |   Morning    |\n",
      "|       7       |   Morning    |\n",
      "|       7       |   Morning    |\n",
      "|       7       |   Morning    |\n",
      "|       7       |   Morning    |\n",
      "|       7       |   Morning    |\n",
      "|       7       |   Morning    |\n",
      "|       7       |   Morning    |\n",
      "|       7       |   Morning    |\n",
      "|       7       |   Morning    |\n",
      "|       7       |   Morning    |\n",
      "|       9       | Mid-Morning  |\n",
      "|       9       | Mid-Morning  |\n",
      "|       9       | Mid-Morning  |\n",
      "|       9       | Mid-Morning  |\n",
      "|       9       | Mid-Morning  |\n",
      "|       9       | Mid-Morning  |\n",
      "+---------------+--------------+\n",
      "[123534969 rows x 2 columns]\n",
      "\n"
     ]
    }
   ],
   "source": [
    "sf['DepTimeByHour','DepTimeSlots'].print_rows(num_rows=20, num_columns=2)"
   ]
  },
  {
   "cell_type": "markdown",
   "metadata": {},
   "source": [
    "#### Q4: Build Linear Regression Model"
   ]
  },
  {
   "cell_type": "code",
   "execution_count": 60,
   "metadata": {},
   "outputs": [
    {
     "name": "stdout",
     "output_type": "stream",
     "text": [
      "PROGRESS: Creating a validation set from 5 percent of training data. This may take a while.\n",
      "          You can set ``validation_set=None`` to disable validation tracking.\n",
      "\n"
     ]
    },
    {
     "data": {
      "text/html": [
       "<pre>Linear regression:</pre>"
      ],
      "text/plain": [
       "Linear regression:"
      ]
     },
     "metadata": {},
     "output_type": "display_data"
    },
    {
     "data": {
      "text/html": [
       "<pre>--------------------------------------------------------</pre>"
      ],
      "text/plain": [
       "--------------------------------------------------------"
      ]
     },
     "metadata": {},
     "output_type": "display_data"
    },
    {
     "data": {
      "text/html": [
       "<pre>Number of examples          : 80184735</pre>"
      ],
      "text/plain": [
       "Number of examples          : 80184735"
      ]
     },
     "metadata": {},
     "output_type": "display_data"
    },
    {
     "data": {
      "text/html": [
       "<pre>Number of features          : 2</pre>"
      ],
      "text/plain": [
       "Number of features          : 2"
      ]
     },
     "metadata": {},
     "output_type": "display_data"
    },
    {
     "data": {
      "text/html": [
       "<pre>Number of unpacked features : 2</pre>"
      ],
      "text/plain": [
       "Number of unpacked features : 2"
      ]
     },
     "metadata": {},
     "output_type": "display_data"
    },
    {
     "data": {
      "text/html": [
       "<pre>Number of coefficients    : 10</pre>"
      ],
      "text/plain": [
       "Number of coefficients    : 10"
      ]
     },
     "metadata": {},
     "output_type": "display_data"
    },
    {
     "data": {
      "text/html": [
       "<pre>Starting Newton Method</pre>"
      ],
      "text/plain": [
       "Starting Newton Method"
      ]
     },
     "metadata": {},
     "output_type": "display_data"
    },
    {
     "data": {
      "text/html": [
       "<pre>--------------------------------------------------------</pre>"
      ],
      "text/plain": [
       "--------------------------------------------------------"
      ]
     },
     "metadata": {},
     "output_type": "display_data"
    },
    {
     "data": {
      "text/html": [
       "<pre>+-----------+----------+--------------+--------------------+----------------------+---------------+-----------------+</pre>"
      ],
      "text/plain": [
       "+-----------+----------+--------------+--------------------+----------------------+---------------+-----------------+"
      ]
     },
     "metadata": {},
     "output_type": "display_data"
    },
    {
     "data": {
      "text/html": [
       "<pre>| Iteration | Passes   | Elapsed Time | Training-max_error | Validation-max_error | Training-rmse | Validation-rmse |</pre>"
      ],
      "text/plain": [
       "| Iteration | Passes   | Elapsed Time | Training-max_error | Validation-max_error | Training-rmse | Validation-rmse |"
      ]
     },
     "metadata": {},
     "output_type": "display_data"
    },
    {
     "data": {
      "text/html": [
       "<pre>+-----------+----------+--------------+--------------------+----------------------+---------------+-----------------+</pre>"
      ],
      "text/plain": [
       "+-----------+----------+--------------+--------------------+----------------------+---------------+-----------------+"
      ]
     },
     "metadata": {},
     "output_type": "display_data"
    },
    {
     "data": {
      "text/html": [
       "<pre>| 1         | 2        | 46.034918    | 2591.612491        | 1952.783479          | 30.633331     | 30.675026       |</pre>"
      ],
      "text/plain": [
       "| 1         | 2        | 46.034918    | 2591.612491        | 1952.783479          | 30.633331     | 30.675026       |"
      ]
     },
     "metadata": {},
     "output_type": "display_data"
    },
    {
     "data": {
      "text/html": [
       "<pre>| 2         | 3        | 77.335837    | 2591.612491        | 1952.783479          | 30.633331     | 30.675026       |</pre>"
      ],
      "text/plain": [
       "| 2         | 3        | 77.335837    | 2591.612491        | 1952.783479          | 30.633331     | 30.675026       |"
      ]
     },
     "metadata": {},
     "output_type": "display_data"
    },
    {
     "data": {
      "text/html": [
       "<pre>+-----------+----------+--------------+--------------------+----------------------+---------------+-----------------+</pre>"
      ],
      "text/plain": [
       "+-----------+----------+--------------+--------------------+----------------------+---------------+-----------------+"
      ]
     },
     "metadata": {},
     "output_type": "display_data"
    },
    {
     "data": {
      "text/html": [
       "<pre>SUCCESS: Optimal solution found.</pre>"
      ],
      "text/plain": [
       "SUCCESS: Optimal solution found."
      ]
     },
     "metadata": {},
     "output_type": "display_data"
    },
    {
     "name": "stdout",
     "output_type": "stream",
     "text": [
      "CPU times: user 9min 27s, sys: 26.4 s, total: 9min 53s\n",
      "Wall time: 3min 23s\n"
     ]
    },
    {
     "data": {
      "text/html": [
       "<pre></pre>"
      ],
      "text/plain": []
     },
     "metadata": {},
     "output_type": "display_data"
    }
   ],
   "source": [
    "# now look at the age and delay time in terms of regression \n",
    "%time lin_model = gl.linear_regression.create(sf_tmp['DepDelay','Age','DepTimeSlots'].dropna(), target='DepDelay', features=['Age','DepTimeSlots'])"
   ]
  },
  {
   "cell_type": "code",
   "execution_count": 61,
   "metadata": {},
   "outputs": [
    {
     "data": {
      "text/html": [
       "<div style=\"max-height:1000px;max-width:1500px;overflow:auto;\"><table frame=\"box\" rules=\"cols\">\n",
       "    <tr>\n",
       "        <th style=\"padding-left: 1em; padding-right: 1em; text-align: center\">name</th>\n",
       "        <th style=\"padding-left: 1em; padding-right: 1em; text-align: center\">index</th>\n",
       "        <th style=\"padding-left: 1em; padding-right: 1em; text-align: center\">value</th>\n",
       "        <th style=\"padding-left: 1em; padding-right: 1em; text-align: center\">stderr</th>\n",
       "    </tr>\n",
       "    <tr>\n",
       "        <td style=\"padding-left: 1em; padding-right: 1em; text-align: center; vertical-align: top\">(intercept)</td>\n",
       "        <td style=\"padding-left: 1em; padding-right: 1em; text-align: center; vertical-align: top\">None</td>\n",
       "        <td style=\"padding-left: 1em; padding-right: 1em; text-align: center; vertical-align: top\">1.39071626301</td>\n",
       "        <td style=\"padding-left: 1em; padding-right: 1em; text-align: center; vertical-align: top\">0.0143549366191</td>\n",
       "    </tr>\n",
       "    <tr>\n",
       "        <td style=\"padding-left: 1em; padding-right: 1em; text-align: center; vertical-align: top\">Age</td>\n",
       "        <td style=\"padding-left: 1em; padding-right: 1em; text-align: center; vertical-align: top\">None</td>\n",
       "        <td style=\"padding-left: 1em; padding-right: 1em; text-align: center; vertical-align: top\">0.00599734573451</td>\n",
       "        <td style=\"padding-left: 1em; padding-right: 1em; text-align: center; vertical-align: top\">8.18536423577e-05</td>\n",
       "    </tr>\n",
       "    <tr>\n",
       "        <td style=\"padding-left: 1em; padding-right: 1em; text-align: center; vertical-align: top\">DepTimeSlots</td>\n",
       "        <td style=\"padding-left: 1em; padding-right: 1em; text-align: center; vertical-align: top\">Evening</td>\n",
       "        <td style=\"padding-left: 1em; padding-right: 1em; text-align: center; vertical-align: top\">12.3003269584</td>\n",
       "        <td style=\"padding-left: 1em; padding-right: 1em; text-align: center; vertical-align: top\">0.0152013080262</td>\n",
       "    </tr>\n",
       "    <tr>\n",
       "        <td style=\"padding-left: 1em; padding-right: 1em; text-align: center; vertical-align: top\">DepTimeSlots</td>\n",
       "        <td style=\"padding-left: 1em; padding-right: 1em; text-align: center; vertical-align: top\">Mid-Morning</td>\n",
       "        <td style=\"padding-left: 1em; padding-right: 1em; text-align: center; vertical-align: top\">4.2797086208</td>\n",
       "        <td style=\"padding-left: 1em; padding-right: 1em; text-align: center; vertical-align: top\">0.0158925136549</td>\n",
       "    </tr>\n",
       "    <tr>\n",
       "        <td style=\"padding-left: 1em; padding-right: 1em; text-align: center; vertical-align: top\">DepTimeSlots</td>\n",
       "        <td style=\"padding-left: 1em; padding-right: 1em; text-align: center; vertical-align: top\">Noon</td>\n",
       "        <td style=\"padding-left: 1em; padding-right: 1em; text-align: center; vertical-align: top\">7.0791986623</td>\n",
       "        <td style=\"padding-left: 1em; padding-right: 1em; text-align: center; vertical-align: top\">0.0159021564092</td>\n",
       "    </tr>\n",
       "    <tr>\n",
       "        <td style=\"padding-left: 1em; padding-right: 1em; text-align: center; vertical-align: top\">DepTimeSlots</td>\n",
       "        <td style=\"padding-left: 1em; padding-right: 1em; text-align: center; vertical-align: top\">Morning</td>\n",
       "        <td style=\"padding-left: 1em; padding-right: 1em; text-align: center; vertical-align: top\">1.75983438382</td>\n",
       "        <td style=\"padding-left: 1em; padding-right: 1em; text-align: center; vertical-align: top\">0.0165743604947</td>\n",
       "    </tr>\n",
       "    <tr>\n",
       "        <td style=\"padding-left: 1em; padding-right: 1em; text-align: center; vertical-align: top\">DepTimeSlots</td>\n",
       "        <td style=\"padding-left: 1em; padding-right: 1em; text-align: center; vertical-align: top\">After-Noon</td>\n",
       "        <td style=\"padding-left: 1em; padding-right: 1em; text-align: center; vertical-align: top\">9.40379294553</td>\n",
       "        <td style=\"padding-left: 1em; padding-right: 1em; text-align: center; vertical-align: top\">0.0194527429987</td>\n",
       "    </tr>\n",
       "    <tr>\n",
       "        <td style=\"padding-left: 1em; padding-right: 1em; text-align: center; vertical-align: top\">DepTimeSlots</td>\n",
       "        <td style=\"padding-left: 1em; padding-right: 1em; text-align: center; vertical-align: top\">Night</td>\n",
       "        <td style=\"padding-left: 1em; padding-right: 1em; text-align: center; vertical-align: top\">10.4104404796</td>\n",
       "        <td style=\"padding-left: 1em; padding-right: 1em; text-align: center; vertical-align: top\">0.0203143082238</td>\n",
       "    </tr>\n",
       "    <tr>\n",
       "        <td style=\"padding-left: 1em; padding-right: 1em; text-align: center; vertical-align: top\">DepTimeSlots</td>\n",
       "        <td style=\"padding-left: 1em; padding-right: 1em; text-align: center; vertical-align: top\">Mid-Night</td>\n",
       "        <td style=\"padding-left: 1em; padding-right: 1em; text-align: center; vertical-align: top\">7.12688386435</td>\n",
       "        <td style=\"padding-left: 1em; padding-right: 1em; text-align: center; vertical-align: top\">0.0358525926827</td>\n",
       "    </tr>\n",
       "    <tr>\n",
       "        <td style=\"padding-left: 1em; padding-right: 1em; text-align: center; vertical-align: top\">DepTimeSlots</td>\n",
       "        <td style=\"padding-left: 1em; padding-right: 1em; text-align: center; vertical-align: top\">Early Morning</td>\n",
       "        <td style=\"padding-left: 1em; padding-right: 1em; text-align: center; vertical-align: top\">-0.0301318316878</td>\n",
       "        <td style=\"padding-left: 1em; padding-right: 1em; text-align: center; vertical-align: top\">0.0479078177536</td>\n",
       "    </tr>\n",
       "</table>\n",
       "[10 rows x 4 columns]<br/>\n",
       "</div>"
      ],
      "text/plain": [
       "Columns:\n",
       "\tname\tstr\n",
       "\tindex\tstr\n",
       "\tvalue\tfloat\n",
       "\tstderr\tfloat\n",
       "\n",
       "Rows: 10\n",
       "\n",
       "Data:\n",
       "+--------------+---------------+------------------+-------------------+\n",
       "|     name     |     index     |      value       |       stderr      |\n",
       "+--------------+---------------+------------------+-------------------+\n",
       "| (intercept)  |      None     |  1.39071626301   |  0.0143549366191  |\n",
       "|     Age      |      None     | 0.00599734573451 | 8.18536423577e-05 |\n",
       "| DepTimeSlots |    Evening    |  12.3003269584   |  0.0152013080262  |\n",
       "| DepTimeSlots |  Mid-Morning  |   4.2797086208   |  0.0158925136549  |\n",
       "| DepTimeSlots |      Noon     |   7.0791986623   |  0.0159021564092  |\n",
       "| DepTimeSlots |    Morning    |  1.75983438382   |  0.0165743604947  |\n",
       "| DepTimeSlots |   After-Noon  |  9.40379294553   |  0.0194527429987  |\n",
       "| DepTimeSlots |     Night     |  10.4104404796   |  0.0203143082238  |\n",
       "| DepTimeSlots |   Mid-Night   |  7.12688386435   |  0.0358525926827  |\n",
       "| DepTimeSlots | Early Morning | -0.0301318316878 |  0.0479078177536  |\n",
       "+--------------+---------------+------------------+-------------------+\n",
       "[10 rows x 4 columns]"
      ]
     },
     "execution_count": 61,
     "metadata": {},
     "output_type": "execute_result"
    }
   ],
   "source": [
    "lin_model['coefficients']"
   ]
  },
  {
   "cell_type": "markdown",
   "metadata": {},
   "source": [
    "#### Q5: What are the most important features for this regression?"
   ]
  },
  {
   "cell_type": "markdown",
   "metadata": {},
   "source": [
    "Age and Delay have positive correlation as evident from linear regression Coefficient(0.00599), although small. Evening timeslot **(4 PM to 9 PM)** has been observed to be the time when there is a maximum delay (coefficient = 12.3). And, the next timeslot where the delay was maximum was After-Noon (3 PM to 4 PM). And, the best timeslot to fly, where the delay was minimum was Early Morning **(1 AM to 6 AM)**."
   ]
  },
  {
   "cell_type": "markdown",
   "metadata": {},
   "source": [
    "#### Q6: Cross-Validation of Linear Regression Model"
   ]
  },
  {
   "cell_type": "markdown",
   "metadata": {},
   "source": [
    "Let's do the 80-20 train-test split. We will build linear regression on Training data and we will evaluate it on test data."
   ]
  },
  {
   "cell_type": "code",
   "execution_count": 64,
   "metadata": {
    "collapsed": true
   },
   "outputs": [],
   "source": [
    "# Create 80-20 Training and Test Split of the Data\n",
    "sf_train, sf_test = sf_tmp['DepDelay','Age','DepTimeSlots'].random_split(.8, seed=5)"
   ]
  },
  {
   "cell_type": "markdown",
   "metadata": {},
   "source": [
    "Build the Linear Regression Model on the Training Data"
   ]
  },
  {
   "cell_type": "code",
   "execution_count": 66,
   "metadata": {},
   "outputs": [
    {
     "name": "stdout",
     "output_type": "stream",
     "text": [
      "PROGRESS: Creating a validation set from 5 percent of training data. This may take a while.\n",
      "          You can set ``validation_set=None`` to disable validation tracking.\n",
      "\n"
     ]
    },
    {
     "data": {
      "text/html": [
       "<pre>Linear regression:</pre>"
      ],
      "text/plain": [
       "Linear regression:"
      ]
     },
     "metadata": {},
     "output_type": "display_data"
    },
    {
     "data": {
      "text/html": [
       "<pre>--------------------------------------------------------</pre>"
      ],
      "text/plain": [
       "--------------------------------------------------------"
      ]
     },
     "metadata": {},
     "output_type": "display_data"
    },
    {
     "data": {
      "text/html": [
       "<pre>Number of examples          : 64142997</pre>"
      ],
      "text/plain": [
       "Number of examples          : 64142997"
      ]
     },
     "metadata": {},
     "output_type": "display_data"
    },
    {
     "data": {
      "text/html": [
       "<pre>Number of features          : 2</pre>"
      ],
      "text/plain": [
       "Number of features          : 2"
      ]
     },
     "metadata": {},
     "output_type": "display_data"
    },
    {
     "data": {
      "text/html": [
       "<pre>Number of unpacked features : 2</pre>"
      ],
      "text/plain": [
       "Number of unpacked features : 2"
      ]
     },
     "metadata": {},
     "output_type": "display_data"
    },
    {
     "data": {
      "text/html": [
       "<pre>Number of coefficients    : 10</pre>"
      ],
      "text/plain": [
       "Number of coefficients    : 10"
      ]
     },
     "metadata": {},
     "output_type": "display_data"
    },
    {
     "data": {
      "text/html": [
       "<pre>Starting Newton Method</pre>"
      ],
      "text/plain": [
       "Starting Newton Method"
      ]
     },
     "metadata": {},
     "output_type": "display_data"
    },
    {
     "data": {
      "text/html": [
       "<pre>--------------------------------------------------------</pre>"
      ],
      "text/plain": [
       "--------------------------------------------------------"
      ]
     },
     "metadata": {},
     "output_type": "display_data"
    },
    {
     "data": {
      "text/html": [
       "<pre>+-----------+----------+--------------+--------------------+----------------------+---------------+-----------------+</pre>"
      ],
      "text/plain": [
       "+-----------+----------+--------------+--------------------+----------------------+---------------+-----------------+"
      ]
     },
     "metadata": {},
     "output_type": "display_data"
    },
    {
     "data": {
      "text/html": [
       "<pre>| Iteration | Passes   | Elapsed Time | Training-max_error | Validation-max_error | Training-rmse | Validation-rmse |</pre>"
      ],
      "text/plain": [
       "| Iteration | Passes   | Elapsed Time | Training-max_error | Validation-max_error | Training-rmse | Validation-rmse |"
      ]
     },
     "metadata": {},
     "output_type": "display_data"
    },
    {
     "data": {
      "text/html": [
       "<pre>+-----------+----------+--------------+--------------------+----------------------+---------------+-----------------+</pre>"
      ],
      "text/plain": [
       "+-----------+----------+--------------+--------------------+----------------------+---------------+-----------------+"
      ]
     },
     "metadata": {},
     "output_type": "display_data"
    },
    {
     "data": {
      "text/html": [
       "<pre>| 1         | 2        | 46.171547    | 2591.604969        | 1630.600285          | 30.644325     | 30.759025       |</pre>"
      ],
      "text/plain": [
       "| 1         | 2        | 46.171547    | 2591.604969        | 1630.600285          | 30.644325     | 30.759025       |"
      ]
     },
     "metadata": {},
     "output_type": "display_data"
    },
    {
     "data": {
      "text/html": [
       "<pre>| 2         | 3        | 77.055356    | 2591.604969        | 1630.600285          | 30.644325     | 30.759025       |</pre>"
      ],
      "text/plain": [
       "| 2         | 3        | 77.055356    | 2591.604969        | 1630.600285          | 30.644325     | 30.759025       |"
      ]
     },
     "metadata": {},
     "output_type": "display_data"
    },
    {
     "name": "stdout",
     "output_type": "stream",
     "text": [
      "CPU times: user 8min 5s, sys: 20.5 s, total: 8min 25s\n",
      "Wall time: 3min 44s\n"
     ]
    },
    {
     "data": {
      "text/html": [
       "<pre>+-----------+----------+--------------+--------------------+----------------------+---------------+-----------------+</pre>"
      ],
      "text/plain": [
       "+-----------+----------+--------------+--------------------+----------------------+---------------+-----------------+"
      ]
     },
     "metadata": {},
     "output_type": "display_data"
    },
    {
     "data": {
      "text/html": [
       "<pre>SUCCESS: Optimal solution found.</pre>"
      ],
      "text/plain": [
       "SUCCESS: Optimal solution found."
      ]
     },
     "metadata": {},
     "output_type": "display_data"
    },
    {
     "data": {
      "text/html": [
       "<pre></pre>"
      ],
      "text/plain": []
     },
     "metadata": {},
     "output_type": "display_data"
    }
   ],
   "source": [
    "%time lin_model_train = gl.linear_regression.create(sf_train.dropna(), target='DepDelay', features=['Age','DepTimeSlots'])"
   ]
  },
  {
   "cell_type": "markdown",
   "metadata": {},
   "source": [
    "Linear Regression Model Coeffcients\n"
   ]
  },
  {
   "cell_type": "code",
   "execution_count": 68,
   "metadata": {},
   "outputs": [
    {
     "data": {
      "text/html": [
       "<div style=\"max-height:1000px;max-width:1500px;overflow:auto;\"><table frame=\"box\" rules=\"cols\">\n",
       "    <tr>\n",
       "        <th style=\"padding-left: 1em; padding-right: 1em; text-align: center\">name</th>\n",
       "        <th style=\"padding-left: 1em; padding-right: 1em; text-align: center\">index</th>\n",
       "        <th style=\"padding-left: 1em; padding-right: 1em; text-align: center\">value</th>\n",
       "        <th style=\"padding-left: 1em; padding-right: 1em; text-align: center\">stderr</th>\n",
       "    </tr>\n",
       "    <tr>\n",
       "        <td style=\"padding-left: 1em; padding-right: 1em; text-align: center; vertical-align: top\">(intercept)</td>\n",
       "        <td style=\"padding-left: 1em; padding-right: 1em; text-align: center; vertical-align: top\">None</td>\n",
       "        <td style=\"padding-left: 1em; padding-right: 1em; text-align: center; vertical-align: top\">1.38161731742</td>\n",
       "        <td style=\"padding-left: 1em; padding-right: 1em; text-align: center; vertical-align: top\">0.0160562765144</td>\n",
       "    </tr>\n",
       "    <tr>\n",
       "        <td style=\"padding-left: 1em; padding-right: 1em; text-align: center; vertical-align: top\">Age</td>\n",
       "        <td style=\"padding-left: 1em; padding-right: 1em; text-align: center; vertical-align: top\">None</td>\n",
       "        <td style=\"padding-left: 1em; padding-right: 1em; text-align: center; vertical-align: top\">0.00605883998807</td>\n",
       "        <td style=\"padding-left: 1em; padding-right: 1em; text-align: center; vertical-align: top\">9.15545724274e-05</td>\n",
       "    </tr>\n",
       "    <tr>\n",
       "        <td style=\"padding-left: 1em; padding-right: 1em; text-align: center; vertical-align: top\">DepTimeSlots</td>\n",
       "        <td style=\"padding-left: 1em; padding-right: 1em; text-align: center; vertical-align: top\">Evening</td>\n",
       "        <td style=\"padding-left: 1em; padding-right: 1em; text-align: center; vertical-align: top\">12.3135682682</td>\n",
       "        <td style=\"padding-left: 1em; padding-right: 1em; text-align: center; vertical-align: top\">0.0170033394727</td>\n",
       "    </tr>\n",
       "    <tr>\n",
       "        <td style=\"padding-left: 1em; padding-right: 1em; text-align: center; vertical-align: top\">DepTimeSlots</td>\n",
       "        <td style=\"padding-left: 1em; padding-right: 1em; text-align: center; vertical-align: top\">Mid-Morning</td>\n",
       "        <td style=\"padding-left: 1em; padding-right: 1em; text-align: center; vertical-align: top\">4.2849780188</td>\n",
       "        <td style=\"padding-left: 1em; padding-right: 1em; text-align: center; vertical-align: top\">0.0177765732094</td>\n",
       "    </tr>\n",
       "    <tr>\n",
       "        <td style=\"padding-left: 1em; padding-right: 1em; text-align: center; vertical-align: top\">DepTimeSlots</td>\n",
       "        <td style=\"padding-left: 1em; padding-right: 1em; text-align: center; vertical-align: top\">Noon</td>\n",
       "        <td style=\"padding-left: 1em; padding-right: 1em; text-align: center; vertical-align: top\">7.08641162381</td>\n",
       "        <td style=\"padding-left: 1em; padding-right: 1em; text-align: center; vertical-align: top\">0.0177869037525</td>\n",
       "    </tr>\n",
       "    <tr>\n",
       "        <td style=\"padding-left: 1em; padding-right: 1em; text-align: center; vertical-align: top\">DepTimeSlots</td>\n",
       "        <td style=\"padding-left: 1em; padding-right: 1em; text-align: center; vertical-align: top\">Morning</td>\n",
       "        <td style=\"padding-left: 1em; padding-right: 1em; text-align: center; vertical-align: top\">1.76355516664</td>\n",
       "        <td style=\"padding-left: 1em; padding-right: 1em; text-align: center; vertical-align: top\">0.0185391732591</td>\n",
       "    </tr>\n",
       "    <tr>\n",
       "        <td style=\"padding-left: 1em; padding-right: 1em; text-align: center; vertical-align: top\">DepTimeSlots</td>\n",
       "        <td style=\"padding-left: 1em; padding-right: 1em; text-align: center; vertical-align: top\">After-Noon</td>\n",
       "        <td style=\"padding-left: 1em; padding-right: 1em; text-align: center; vertical-align: top\">9.39961516767</td>\n",
       "        <td style=\"padding-left: 1em; padding-right: 1em; text-align: center; vertical-align: top\">0.0217585682099</td>\n",
       "    </tr>\n",
       "    <tr>\n",
       "        <td style=\"padding-left: 1em; padding-right: 1em; text-align: center; vertical-align: top\">DepTimeSlots</td>\n",
       "        <td style=\"padding-left: 1em; padding-right: 1em; text-align: center; vertical-align: top\">Night</td>\n",
       "        <td style=\"padding-left: 1em; padding-right: 1em; text-align: center; vertical-align: top\">10.4353049003</td>\n",
       "        <td style=\"padding-left: 1em; padding-right: 1em; text-align: center; vertical-align: top\">0.0227193768717</td>\n",
       "    </tr>\n",
       "    <tr>\n",
       "        <td style=\"padding-left: 1em; padding-right: 1em; text-align: center; vertical-align: top\">DepTimeSlots</td>\n",
       "        <td style=\"padding-left: 1em; padding-right: 1em; text-align: center; vertical-align: top\">Mid-Night</td>\n",
       "        <td style=\"padding-left: 1em; padding-right: 1em; text-align: center; vertical-align: top\">7.10542645748</td>\n",
       "        <td style=\"padding-left: 1em; padding-right: 1em; text-align: center; vertical-align: top\">0.0400986350652</td>\n",
       "    </tr>\n",
       "    <tr>\n",
       "        <td style=\"padding-left: 1em; padding-right: 1em; text-align: center; vertical-align: top\">DepTimeSlots</td>\n",
       "        <td style=\"padding-left: 1em; padding-right: 1em; text-align: center; vertical-align: top\">Early Morning</td>\n",
       "        <td style=\"padding-left: 1em; padding-right: 1em; text-align: center; vertical-align: top\">-0.0435011564697</td>\n",
       "        <td style=\"padding-left: 1em; padding-right: 1em; text-align: center; vertical-align: top\">0.0536095216739</td>\n",
       "    </tr>\n",
       "</table>\n",
       "[10 rows x 4 columns]<br/>\n",
       "</div>"
      ],
      "text/plain": [
       "Columns:\n",
       "\tname\tstr\n",
       "\tindex\tstr\n",
       "\tvalue\tfloat\n",
       "\tstderr\tfloat\n",
       "\n",
       "Rows: 10\n",
       "\n",
       "Data:\n",
       "+--------------+---------------+------------------+-------------------+\n",
       "|     name     |     index     |      value       |       stderr      |\n",
       "+--------------+---------------+------------------+-------------------+\n",
       "| (intercept)  |      None     |  1.38161731742   |  0.0160562765144  |\n",
       "|     Age      |      None     | 0.00605883998807 | 9.15545724274e-05 |\n",
       "| DepTimeSlots |    Evening    |  12.3135682682   |  0.0170033394727  |\n",
       "| DepTimeSlots |  Mid-Morning  |   4.2849780188   |  0.0177765732094  |\n",
       "| DepTimeSlots |      Noon     |  7.08641162381   |  0.0177869037525  |\n",
       "| DepTimeSlots |    Morning    |  1.76355516664   |  0.0185391732591  |\n",
       "| DepTimeSlots |   After-Noon  |  9.39961516767   |  0.0217585682099  |\n",
       "| DepTimeSlots |     Night     |  10.4353049003   |  0.0227193768717  |\n",
       "| DepTimeSlots |   Mid-Night   |  7.10542645748   |  0.0400986350652  |\n",
       "| DepTimeSlots | Early Morning | -0.0435011564697 |  0.0536095216739  |\n",
       "+--------------+---------------+------------------+-------------------+\n",
       "[10 rows x 4 columns]"
      ]
     },
     "execution_count": 68,
     "metadata": {},
     "output_type": "execute_result"
    }
   ],
   "source": [
    "lin_model_train['coefficients']"
   ]
  },
  {
   "cell_type": "markdown",
   "metadata": {},
   "source": [
    "Let's Validate the accuracy of the model"
   ]
  },
  {
   "cell_type": "code",
   "execution_count": 72,
   "metadata": {},
   "outputs": [
    {
     "data": {
      "text/plain": [
       "{'max_error': 2457.568615500672, 'rmse': 30.24770075739066}"
      ]
     },
     "execution_count": 72,
     "metadata": {},
     "output_type": "execute_result"
    }
   ],
   "source": [
    "# Evaluate the model\n",
    "results = lin_model_train.evaluate(sf_test)\n",
    "results"
   ]
  },
  {
   "cell_type": "markdown",
   "metadata": {},
   "source": [
    "RMSE of 30 minutes is not satisfactory for Linear Regression model with two explanatory variables. However, accuracy of the model can be further improved if we include more explanatory variables in training the model."
   ]
  },
  {
   "cell_type": "markdown",
   "metadata": {},
   "source": [
    "### 7 Conclusion And Future Work\n",
    "In this case study, we have found that Python packages such as **\"Graphlab\"** can be very handy when it comes to handling the very Big data. The Graphlab has out-of-core \"SFRAME\" which doesn't need all the data to be put into memory while processing. In other programming languages such as \"R,\" we can use **\"BigMemory\"** package to process the big data.  \n",
    "\n",
    "The Linear regression model with \"Age\" and \"Departure Time Slots\" seemed to predict the delay in excellent accuracy. Root Mean Square Error of 30 minutes can be considered. However, the model's accuracy can be further improved by including more explanatory variables/features in the dataset. \n"
   ]
  },
  {
   "cell_type": "markdown",
   "metadata": {},
   "source": [
    "### 8. References"
   ]
  },
  {
   "cell_type": "markdown",
   "metadata": {
    "collapsed": true
   },
   "source": [
    "1. Lang, D. T., & Nolan, D. A. (2015). Data Science in R: A Case Studies Approach to Computational Reasoning and Problem Solving. CRC Press.\n",
    "2. https://turi.com/products/create/docs/generated/graphlab.linear_regression.LinearRegression.html\n",
    "3. https://turi.com/products/create/docs/generated/graphlab.SFrame.random_split.html\n",
    "4. http://stat-computing.org/dataexpo/2009/the-data.html\n",
    "4. Notebook of Eris Larson"
   ]
  },
  {
   "cell_type": "code",
   "execution_count": null,
   "metadata": {
    "collapsed": true
   },
   "outputs": [],
   "source": []
  }
 ],
 "metadata": {
  "anaconda-cloud": {},
  "kernelspec": {
   "display_name": "Python 2",
   "language": "python",
   "name": "python2"
  },
  "language_info": {
   "codemirror_mode": {
    "name": "ipython",
    "version": 2
   },
   "file_extension": ".py",
   "mimetype": "text/x-python",
   "name": "python",
   "nbconvert_exporter": "python",
   "pygments_lexer": "ipython2",
   "version": "2.7.11"
  },
  "toc": {
   "nav_menu": {},
   "number_sections": false,
   "sideBar": true,
   "skip_h1_title": false,
   "toc_cell": true,
   "toc_position": {
    "height": "497px",
    "left": "0px",
    "right": "1068px",
    "top": "107px",
    "width": "212px"
   },
   "toc_section_display": "block",
   "toc_window_display": true
  }
 },
 "nbformat": 4,
 "nbformat_minor": 1
}
